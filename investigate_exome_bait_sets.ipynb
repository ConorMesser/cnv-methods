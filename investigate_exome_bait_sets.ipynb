{
 "cells": [
  {
   "cell_type": "code",
   "execution_count": 1,
   "id": "c3070f1d",
   "metadata": {},
   "outputs": [],
   "source": [
    "import pandas as pd\n",
    "import matplotlib.pyplot as plt\n",
    "import numpy as np"
   ]
  },
  {
   "cell_type": "code",
   "execution_count": 19,
   "id": "5a4c3e55",
   "metadata": {},
   "outputs": [],
   "source": [
    "agilent = pd.read_csv('../cnv_data/NA12878.WES.agilent_v5.hg38.binned_coverage.bed', sep='\\t', header=None, names=['chr', 'start', 'end', 'depth'], index_col=None)\n",
    "ice = pd.read_csv('../cnv_data/NA12878.WES.ice.hg38.binned_coverage.chr1.bed', sep='\\t', header=None, names=['chr', 'start', 'end','depth'])\n",
    "twist = pd.read_csv('../cnv_data/NA12878.WES.twist.hg38.binned_coverage.chr1.bed', sep='\\t', header=None, names=['chr', 'start', 'end','depth'])\n",
    "unknown = pd.read_csv('../cnv_data/NA12878.WES.unknown_v1.hg38.binned_coverage.chr1.bed', sep='\\t', header=None, names=['chr', 'start', 'end','depth'])\n"
   ]
  },
  {
   "cell_type": "code",
   "execution_count": 20,
   "id": "b1fd67b8",
   "metadata": {},
   "outputs": [],
   "source": [
    "phase1_2 = pd.read_csv('../cnv_data/NA12878.WES.phase1_2.hg38.binned_coverage.chr1.bed', sep='\\t', header=None, names=['chr', 'start', 'end','depth'])\n",
    "phase3 = pd.read_csv('../cnv_data/NA12878.WES.phase3.hg38.binned_coverage.chr1.bed', sep='\\t', header=None, names=['chr', 'start', 'end','depth'])\n",
    "\n"
   ]
  },
  {
   "cell_type": "code",
   "execution_count": 21,
   "id": "9d3ed578",
   "metadata": {},
   "outputs": [
    {
     "data": {
      "text/html": [
       "<div>\n",
       "<style scoped>\n",
       "    .dataframe tbody tr th:only-of-type {\n",
       "        vertical-align: middle;\n",
       "    }\n",
       "\n",
       "    .dataframe tbody tr th {\n",
       "        vertical-align: top;\n",
       "    }\n",
       "\n",
       "    .dataframe thead th {\n",
       "        text-align: right;\n",
       "    }\n",
       "</style>\n",
       "<table border=\"1\" class=\"dataframe\">\n",
       "  <thead>\n",
       "    <tr style=\"text-align: right;\">\n",
       "      <th></th>\n",
       "      <th>chr</th>\n",
       "      <th>start</th>\n",
       "      <th>end</th>\n",
       "      <th>depth</th>\n",
       "    </tr>\n",
       "  </thead>\n",
       "  <tbody>\n",
       "    <tr>\n",
       "      <th>0</th>\n",
       "      <td>chr1</td>\n",
       "      <td>69091</td>\n",
       "      <td>69290</td>\n",
       "      <td>4217</td>\n",
       "    </tr>\n",
       "    <tr>\n",
       "      <th>1</th>\n",
       "      <td>chr1</td>\n",
       "      <td>69291</td>\n",
       "      <td>69490</td>\n",
       "      <td>2633</td>\n",
       "    </tr>\n",
       "    <tr>\n",
       "      <th>2</th>\n",
       "      <td>chr1</td>\n",
       "      <td>69491</td>\n",
       "      <td>69690</td>\n",
       "      <td>2153</td>\n",
       "    </tr>\n",
       "    <tr>\n",
       "      <th>3</th>\n",
       "      <td>chr1</td>\n",
       "      <td>69691</td>\n",
       "      <td>70008</td>\n",
       "      <td>10410</td>\n",
       "    </tr>\n",
       "    <tr>\n",
       "      <th>4</th>\n",
       "      <td>chr1</td>\n",
       "      <td>925941</td>\n",
       "      <td>926013</td>\n",
       "      <td>364</td>\n",
       "    </tr>\n",
       "    <tr>\n",
       "      <th>...</th>\n",
       "      <td>...</td>\n",
       "      <td>...</td>\n",
       "      <td>...</td>\n",
       "      <td>...</td>\n",
       "    </tr>\n",
       "    <tr>\n",
       "      <th>18526</th>\n",
       "      <td>chr1</td>\n",
       "      <td>248917202</td>\n",
       "      <td>248917401</td>\n",
       "      <td>1342</td>\n",
       "    </tr>\n",
       "    <tr>\n",
       "      <th>18527</th>\n",
       "      <td>chr1</td>\n",
       "      <td>248917402</td>\n",
       "      <td>248917601</td>\n",
       "      <td>1308</td>\n",
       "    </tr>\n",
       "    <tr>\n",
       "      <th>18528</th>\n",
       "      <td>chr1</td>\n",
       "      <td>248917602</td>\n",
       "      <td>248917801</td>\n",
       "      <td>1072</td>\n",
       "    </tr>\n",
       "    <tr>\n",
       "      <th>18529</th>\n",
       "      <td>chr1</td>\n",
       "      <td>248917802</td>\n",
       "      <td>248918001</td>\n",
       "      <td>531</td>\n",
       "    </tr>\n",
       "    <tr>\n",
       "      <th>18530</th>\n",
       "      <td>chr1</td>\n",
       "      <td>248918002</td>\n",
       "      <td>248918363</td>\n",
       "      <td>1330</td>\n",
       "    </tr>\n",
       "  </tbody>\n",
       "</table>\n",
       "<p>17254 rows × 4 columns</p>\n",
       "</div>"
      ],
      "text/plain": [
       "        chr      start        end  depth\n",
       "0      chr1      69091      69290   4217\n",
       "1      chr1      69291      69490   2633\n",
       "2      chr1      69491      69690   2153\n",
       "3      chr1      69691      70008  10410\n",
       "4      chr1     925941     926013    364\n",
       "...     ...        ...        ...    ...\n",
       "18526  chr1  248917202  248917401   1342\n",
       "18527  chr1  248917402  248917601   1308\n",
       "18528  chr1  248917602  248917801   1072\n",
       "18529  chr1  248917802  248918001    531\n",
       "18530  chr1  248918002  248918363   1330\n",
       "\n",
       "[17254 rows x 4 columns]"
      ]
     },
     "execution_count": 21,
     "metadata": {},
     "output_type": "execute_result"
    }
   ],
   "source": [
    "phase1_2[phase1_2['depth'] > 100]"
   ]
  },
  {
   "cell_type": "code",
   "execution_count": 22,
   "id": "e162a641",
   "metadata": {},
   "outputs": [],
   "source": [
    "all_bed = {'agilent': agilent, 'ice': ice, 'twist': twist, 'unknown': unknown, 'phase1_2':phase1_2, 'phase3':phase3}\n",
    "for name, b in all_bed.items():\n",
    "    b['length'] = b['end'] - b['start']\n",
    "    b['depth_norm'] = b.apply(lambda x: np.NaN if x['length'] == 0 else x['depth'] * 76 / x['length'], axis=1)"
   ]
  },
  {
   "cell_type": "code",
   "execution_count": 36,
   "id": "7af5d01c",
   "metadata": {},
   "outputs": [
    {
     "data": {
      "text/plain": [
       "{'agilent': 232.88153672514696,\n",
       " 'ice': 360.19562028624074,\n",
       " 'twist': 361.2537876855153,\n",
       " 'unknown': 86.09078741474406,\n",
       " 'phase1_2': 403.3466733676452,\n",
       " 'phase3': 272.61227044992427}"
      ]
     },
     "execution_count": 36,
     "metadata": {},
     "output_type": "execute_result"
    }
   ],
   "source": [
    "{name: bed['depth_norm'].mean() for name, bed in all_bed.items()}"
   ]
  },
  {
   "cell_type": "code",
   "execution_count": 24,
   "id": "6e834673",
   "metadata": {},
   "outputs": [
    {
     "data": {
      "image/png": "[encoded data removed]",
      "text/plain": [
       "<Figure size 432x288 with 1 Axes>"
      ]
     },
     "metadata": {
      "needs_background": "light"
     },
     "output_type": "display_data"
    },
    {
     "data": {
      "image/png": "[encoded data removed]",
      "text/plain": [
       "<Figure size 432x288 with 1 Axes>"
      ]
     },
     "metadata": {
      "needs_background": "light"
     },
     "output_type": "display_data"
    },
    {
     "data": {
      "image/png": "[encoded data removed]",
      "text/plain": [
       "<Figure size 432x288 with 1 Axes>"
      ]
     },
     "metadata": {
      "needs_background": "light"
     },
     "output_type": "display_data"
    },
    {
     "data": {
      "image/png": "[encoded data removed]",
      "text/plain": [
       "<Figure size 432x288 with 1 Axes>"
      ]
     },
     "metadata": {
      "needs_background": "light"
     },
     "output_type": "display_data"
    },
    {
     "data": {
      "image/png": "[encoded data removed]",
      "text/plain": [
       "<Figure size 432x288 with 1 Axes>"
      ]
     },
     "metadata": {
      "needs_background": "light"
     },
     "output_type": "display_data"
    },
    {
     "data": {
      "image/png": "[encoded data removed]",
      "text/plain": [
       "<Figure size 432x288 with 1 Axes>"
      ]
     },
     "metadata": {
      "needs_background": "light"
     },
     "output_type": "display_data"
    }
   ],
   "source": [
    "for name, b in all_bed.items():\n",
    "    fig = plt.hist(b['depth_norm'], 100)\n",
    "    plt.title(f\"{name} bait set\")\n",
    "    plt.xlabel('Avg Depth per Target')\n",
    "    plt.ylabel('Counts')\n",
    "    plt.show()"
   ]
  },
  {
   "cell_type": "code",
   "execution_count": 25,
   "id": "20171143",
   "metadata": {},
   "outputs": [
    {
     "data": {
      "image/png": "[encoded data removed]",
      "text/plain": [
       "<Figure size 432x288 with 1 Axes>"
      ]
     },
     "metadata": {
      "needs_background": "light"
     },
     "output_type": "display_data"
    },
    {
     "data": {
      "image/png": "[encoded data removed]",
      "text/plain": [
       "<Figure size 432x288 with 1 Axes>"
      ]
     },
     "metadata": {
      "needs_background": "light"
     },
     "output_type": "display_data"
    },
    {
     "data": {
      "image/png": "[encoded data removed]",
      "text/plain": [
       "<Figure size 432x288 with 1 Axes>"
      ]
     },
     "metadata": {
      "needs_background": "light"
     },
     "output_type": "display_data"
    },
    {
     "data": {
      "image/png": "[encoded data removed]",
      "text/plain": [
       "<Figure size 432x288 with 1 Axes>"
      ]
     },
     "metadata": {
      "needs_background": "light"
     },
     "output_type": "display_data"
    },
    {
     "data": {
      "image/png": "[encoded data removed]",
      "text/plain": [
       "<Figure size 432x288 with 1 Axes>"
      ]
     },
     "metadata": {
      "needs_background": "light"
     },
     "output_type": "display_data"
    },
    {
     "data": {
      "image/png": "[encoded data removed]",
      "text/plain": [
       "<Figure size 432x288 with 1 Axes>"
      ]
     },
     "metadata": {
      "needs_background": "light"
     },
     "output_type": "display_data"
    }
   ],
   "source": [
    "for name, b in all_bed.items():\n",
    "    fig = plt.hist(b[b['depth_norm'] < 1500]['depth_norm'], 50)\n",
    "    plt.title(f\"{name} bait set\")\n",
    "    plt.xlabel('Avg Depth per Target')\n",
    "    plt.ylabel('Counts')\n",
    "    plt.show()"
   ]
  },
  {
   "cell_type": "code",
   "execution_count": 45,
   "id": "c0e67102",
   "metadata": {},
   "outputs": [
    {
     "data": {
      "text/plain": [
       "(0.0, 1500.0)"
      ]
     },
     "execution_count": 45,
     "metadata": {},
     "output_type": "execute_result"
    },
    {
     "data": {
      "image/png": "[encoded data removed]",
      "text/plain": [
       "<Figure size 432x288 with 1 Axes>"
      ]
     },
     "metadata": {
      "needs_background": "light"
     },
     "output_type": "display_data"
    }
   ],
   "source": [
    "depth_list = []\n",
    "for name, b in all_bed.items():\n",
    "    depth_list.append(list(b['depth_norm']))\n",
    "\n",
    "df = pd.DataFrame(data = depth_list, index = all_bed.keys())\n",
    "df.transpose().boxplot()\n",
    "ax = plt.gca()\n",
    "ax.set_ylim([0,1500])"
   ]
  },
  {
   "cell_type": "code",
   "execution_count": 41,
   "id": "675593ec",
   "metadata": {},
   "outputs": [
    {
     "name": "stdout",
     "output_type": "stream",
     "text": [
      "agilent: 1273\n",
      "ice: 778\n",
      "twist: 862\n",
      "unknown: 6840\n",
      "phase1_2: 158\n",
      "phase3: 194\n"
     ]
    }
   ],
   "source": [
    "for name, b in all_bed.items():\n",
    "    print(f'{name}: {len(b[b[\"depth_norm\"] < 5])}')"
   ]
  },
  {
   "cell_type": "markdown",
   "id": "7ba570ec",
   "metadata": {},
   "source": [
    "### It seems that the Phase 1/2 consensus target file matches our WES file the best"
   ]
  },
  {
   "cell_type": "markdown",
   "id": "f36a2e73",
   "metadata": {},
   "source": [
    "## Now investigate bam vs. Solexa/Pond bams"
   ]
  },
  {
   "cell_type": "code",
   "execution_count": 3,
   "id": "de941c45",
   "metadata": {},
   "outputs": [],
   "source": [
    "full_bam_snp_depths = pd.read_csv('../cnv_data/NA12878_WES.vcf.depths.bed', sep='\\t')\n",
    "solexa_bam_snp_depths = pd.read_csv('../cnv_data/NA12878_Solexa_WES.vcf.depths.bed', sep='\\t')\n",
    "pond_bam_snp_depths = pd.read_csv('../cnv_data/NA12878_Pond_WES.vcf.depths.bed', sep='\\t')\n"
   ]
  },
  {
   "cell_type": "code",
   "execution_count": 8,
   "id": "215802dc",
   "metadata": {},
   "outputs": [],
   "source": [
    "combo_depths = full_bam_snp_depths.merge(solexa_bam_snp_depths, on=['chr', 'pos'], suffixes=['_full', '_solexa']).merge(pond_bam_snp_depths, on=['chr', 'pos']).rename(columns={'depth': 'depth_pond'})"
   ]
  },
  {
   "cell_type": "code",
   "execution_count": 10,
   "id": "b4f1ebc9",
   "metadata": {},
   "outputs": [],
   "source": [
    "combo_depths.set_index(['chr', 'pos'], inplace=True)"
   ]
  },
  {
   "cell_type": "code",
   "execution_count": 18,
   "id": "541e64a9",
   "metadata": {},
   "outputs": [],
   "source": [
    "combo_depths['depth_combo'] = combo_depths['depth_solexa'] + combo_depths['depth_pond']"
   ]
  },
  {
   "cell_type": "code",
   "execution_count": 66,
   "id": "0a09ec15",
   "metadata": {},
   "outputs": [
    {
     "data": {
      "text/html": [
       "<div>\n",
       "<style scoped>\n",
       "    .dataframe tbody tr th:only-of-type {\n",
       "        vertical-align: middle;\n",
       "    }\n",
       "\n",
       "    .dataframe tbody tr th {\n",
       "        vertical-align: top;\n",
       "    }\n",
       "\n",
       "    .dataframe thead th {\n",
       "        text-align: right;\n",
       "    }\n",
       "</style>\n",
       "<table border=\"1\" class=\"dataframe\">\n",
       "  <thead>\n",
       "    <tr style=\"text-align: right;\">\n",
       "      <th></th>\n",
       "      <th></th>\n",
       "      <th>depth_full</th>\n",
       "      <th>depth_solexa</th>\n",
       "      <th>depth_pond</th>\n",
       "      <th>depth_combo</th>\n",
       "    </tr>\n",
       "    <tr>\n",
       "      <th>chr</th>\n",
       "      <th>pos</th>\n",
       "      <th></th>\n",
       "      <th></th>\n",
       "      <th></th>\n",
       "      <th></th>\n",
       "    </tr>\n",
       "  </thead>\n",
       "  <tbody>\n",
       "    <tr>\n",
       "      <th rowspan=\"5\" valign=\"top\">chr1</th>\n",
       "      <th>790933</th>\n",
       "      <td>17</td>\n",
       "      <td>20</td>\n",
       "      <td>1</td>\n",
       "      <td>21</td>\n",
       "    </tr>\n",
       "    <tr>\n",
       "      <th>866563</th>\n",
       "      <td>9</td>\n",
       "      <td>12</td>\n",
       "      <td>1</td>\n",
       "      <td>13</td>\n",
       "    </tr>\n",
       "    <tr>\n",
       "      <th>873251</th>\n",
       "      <td>11</td>\n",
       "      <td>7</td>\n",
       "      <td>9</td>\n",
       "      <td>16</td>\n",
       "    </tr>\n",
       "    <tr>\n",
       "      <th>873542</th>\n",
       "      <td>156</td>\n",
       "      <td>131</td>\n",
       "      <td>111</td>\n",
       "      <td>242</td>\n",
       "    </tr>\n",
       "    <tr>\n",
       "      <th>873548</th>\n",
       "      <td>159</td>\n",
       "      <td>129</td>\n",
       "      <td>114</td>\n",
       "      <td>243</td>\n",
       "    </tr>\n",
       "    <tr>\n",
       "      <th>...</th>\n",
       "      <th>...</th>\n",
       "      <td>...</td>\n",
       "      <td>...</td>\n",
       "      <td>...</td>\n",
       "      <td>...</td>\n",
       "    </tr>\n",
       "    <tr>\n",
       "      <th rowspan=\"5\" valign=\"top\">chrX</th>\n",
       "      <th>155292770</th>\n",
       "      <td>17</td>\n",
       "      <td>20</td>\n",
       "      <td>9</td>\n",
       "      <td>29</td>\n",
       "    </tr>\n",
       "    <tr>\n",
       "      <th>155491696</th>\n",
       "      <td>65</td>\n",
       "      <td>42</td>\n",
       "      <td>46</td>\n",
       "      <td>88</td>\n",
       "    </tr>\n",
       "    <tr>\n",
       "      <th>155524242</th>\n",
       "      <td>12</td>\n",
       "      <td>11</td>\n",
       "      <td>6</td>\n",
       "      <td>17</td>\n",
       "    </tr>\n",
       "    <tr>\n",
       "      <th>155545002</th>\n",
       "      <td>22</td>\n",
       "      <td>32</td>\n",
       "      <td>8</td>\n",
       "      <td>40</td>\n",
       "    </tr>\n",
       "    <tr>\n",
       "      <th>155545046</th>\n",
       "      <td>52</td>\n",
       "      <td>60</td>\n",
       "      <td>31</td>\n",
       "      <td>91</td>\n",
       "    </tr>\n",
       "  </tbody>\n",
       "</table>\n",
       "<p>90625 rows × 4 columns</p>\n",
       "</div>"
      ],
      "text/plain": [
       "                depth_full  depth_solexa  depth_pond  depth_combo\n",
       "chr  pos                                                         \n",
       "chr1 790933             17            20           1           21\n",
       "     866563              9            12           1           13\n",
       "     873251             11             7           9           16\n",
       "     873542            156           131         111          242\n",
       "     873548            159           129         114          243\n",
       "...                    ...           ...         ...          ...\n",
       "chrX 155292770          17            20           9           29\n",
       "     155491696          65            42          46           88\n",
       "     155524242          12            11           6           17\n",
       "     155545002          22            32           8           40\n",
       "     155545046          52            60          31           91\n",
       "\n",
       "[90625 rows x 4 columns]"
      ]
     },
     "execution_count": 66,
     "metadata": {},
     "output_type": "execute_result"
    }
   ],
   "source": [
    "combo_depths[(combo_depths['depth_combo'] - combo_depths['depth_full']) > 3]"
   ]
  },
  {
   "cell_type": "code",
   "execution_count": 54,
   "id": "4bd2dad2",
   "metadata": {},
   "outputs": [
    {
     "data": {
      "image/png": "[encoded data removed]",
      "text/plain": [
       "<Figure size 432x288 with 1 Axes>"
      ]
     },
     "metadata": {
      "needs_background": "light"
     },
     "output_type": "display_data"
    }
   ],
   "source": [
    "ax = (combo_depths['depth_combo'] - combo_depths['depth_full']).value_counts().sort_index().plot.bar(log=True)\n"
   ]
  },
  {
   "cell_type": "code",
   "execution_count": 60,
   "id": "88b1b38c",
   "metadata": {},
   "outputs": [
    {
     "data": {
      "text/plain": [
       "Text(0, 0.5, 'Number of SNVs')"
      ]
     },
     "execution_count": 60,
     "metadata": {},
     "output_type": "execute_result"
    },
    {
     "data": {
      "image/png": "[encoded data removed]",
      "text/plain": [
       "<Figure size 432x288 with 1 Axes>"
      ]
     },
     "metadata": {
      "needs_background": "light"
     },
     "output_type": "display_data"
    }
   ],
   "source": [
    "ax = (combo_depths['depth_combo'] - combo_depths['depth_full']).value_counts().sort_index().iloc[0:50].plot.bar(log=True)\n",
    "ax.set_xlabel('Sum minus Original')\n",
    "ax.set_ylabel('Number of SNVs')"
   ]
  },
  {
   "cell_type": "code",
   "execution_count": 32,
   "id": "2441b398",
   "metadata": {},
   "outputs": [
    {
     "data": {
      "text/html": [
       "<div>\n",
       "<style scoped>\n",
       "    .dataframe tbody tr th:only-of-type {\n",
       "        vertical-align: middle;\n",
       "    }\n",
       "\n",
       "    .dataframe tbody tr th {\n",
       "        vertical-align: top;\n",
       "    }\n",
       "\n",
       "    .dataframe thead th {\n",
       "        text-align: right;\n",
       "    }\n",
       "</style>\n",
       "<table border=\"1\" class=\"dataframe\">\n",
       "  <thead>\n",
       "    <tr style=\"text-align: right;\">\n",
       "      <th></th>\n",
       "      <th>depth_full</th>\n",
       "      <th>depth_solexa</th>\n",
       "      <th>depth_pond</th>\n",
       "      <th>depth_combo</th>\n",
       "    </tr>\n",
       "  </thead>\n",
       "  <tbody>\n",
       "    <tr>\n",
       "      <th>count</th>\n",
       "      <td>91543.000000</td>\n",
       "      <td>91543.000000</td>\n",
       "      <td>91543.000000</td>\n",
       "      <td>91543.000000</td>\n",
       "    </tr>\n",
       "    <tr>\n",
       "      <th>mean</th>\n",
       "      <td>63.095780</td>\n",
       "      <td>56.659810</td>\n",
       "      <td>40.260664</td>\n",
       "      <td>96.920475</td>\n",
       "    </tr>\n",
       "    <tr>\n",
       "      <th>std</th>\n",
       "      <td>75.001582</td>\n",
       "      <td>81.322035</td>\n",
       "      <td>51.693131</td>\n",
       "      <td>123.516204</td>\n",
       "    </tr>\n",
       "    <tr>\n",
       "      <th>min</th>\n",
       "      <td>11.000000</td>\n",
       "      <td>0.000000</td>\n",
       "      <td>0.000000</td>\n",
       "      <td>9.000000</td>\n",
       "    </tr>\n",
       "    <tr>\n",
       "      <th>25%</th>\n",
       "      <td>20.000000</td>\n",
       "      <td>17.000000</td>\n",
       "      <td>10.000000</td>\n",
       "      <td>28.000000</td>\n",
       "    </tr>\n",
       "    <tr>\n",
       "      <th>50%</th>\n",
       "      <td>41.000000</td>\n",
       "      <td>35.000000</td>\n",
       "      <td>24.000000</td>\n",
       "      <td>60.000000</td>\n",
       "    </tr>\n",
       "    <tr>\n",
       "      <th>75%</th>\n",
       "      <td>82.000000</td>\n",
       "      <td>71.000000</td>\n",
       "      <td>53.000000</td>\n",
       "      <td>125.000000</td>\n",
       "    </tr>\n",
       "    <tr>\n",
       "      <th>max</th>\n",
       "      <td>4832.000000</td>\n",
       "      <td>7218.000000</td>\n",
       "      <td>1850.000000</td>\n",
       "      <td>7282.000000</td>\n",
       "    </tr>\n",
       "  </tbody>\n",
       "</table>\n",
       "</div>"
      ],
      "text/plain": [
       "         depth_full  depth_solexa    depth_pond   depth_combo\n",
       "count  91543.000000  91543.000000  91543.000000  91543.000000\n",
       "mean      63.095780     56.659810     40.260664     96.920475\n",
       "std       75.001582     81.322035     51.693131    123.516204\n",
       "min       11.000000      0.000000      0.000000      9.000000\n",
       "25%       20.000000     17.000000     10.000000     28.000000\n",
       "50%       41.000000     35.000000     24.000000     60.000000\n",
       "75%       82.000000     71.000000     53.000000    125.000000\n",
       "max     4832.000000   7218.000000   1850.000000   7282.000000"
      ]
     },
     "execution_count": 32,
     "metadata": {},
     "output_type": "execute_result"
    }
   ],
   "source": [
    "combo_depths[combo_depths['depth_full'] > 10].describe()"
   ]
  },
  {
   "cell_type": "code",
   "execution_count": 24,
   "id": "2b9ca871",
   "metadata": {},
   "outputs": [
    {
     "name": "stdout",
     "output_type": "stream",
     "text": [
      "335417841\r\n"
     ]
    }
   ],
   "source": [
    "! samtools view -c ../cnv_data/NA12878.alt_bwamem_GRCh38DH.20150826.CEU.exome.bam"
   ]
  },
  {
   "cell_type": "code",
   "execution_count": null,
   "id": "227e18ff",
   "metadata": {},
   "outputs": [],
   "source": [
    "! samtools view -c ../cnv_data/NA12878.alt_bwamem_GRCh38DH.20150826.CEU.exome_Pond.bam  # 91052397"
   ]
  },
  {
   "cell_type": "code",
   "execution_count": null,
   "id": "41616b19",
   "metadata": {},
   "outputs": [],
   "source": [
    "! samtools view -c ../cnv_data/NA12878.alt_bwamem_GRCh38DH.20150826.CEU.exome_Solexa-51024.bam  # 244365444"
   ]
  },
  {
   "cell_type": "code",
   "execution_count": 30,
   "id": "456a7eed",
   "metadata": {},
   "outputs": [
    {
     "data": {
      "text/plain": [
       "335417841"
      ]
     },
     "execution_count": 30,
     "metadata": {},
     "output_type": "execute_result"
    }
   ],
   "source": [
    "244365444 + 91052397"
   ]
  },
  {
   "cell_type": "markdown",
   "id": "3c2d36a6",
   "metadata": {},
   "source": [
    "The two split bams (Pond and Solexa) do indeed have the correct number of reads, summing to the count for the whole bam. Why then are there certain loci that have a higher read depth? Because I used the cram to get the depths the first time. There is a bug where the cram reports different (generally lower) read depths. Not sure why, but the filtering must be different. I am re-running on the bam, and that should be totally concordant with the sum of Pond + Solexa."
   ]
  },
  {
   "cell_type": "markdown",
   "id": "5f1e3961",
   "metadata": {},
   "source": [
    "### After rerunning the depths workflow using the bams (not crams)"
   ]
  },
  {
   "cell_type": "code",
   "execution_count": 2,
   "id": "a023766b",
   "metadata": {},
   "outputs": [],
   "source": [
    "full_bam_snp_depths = pd.read_csv('../cnv_data/NA12878_WES.vcf.depths.bed', sep='\\t')\n",
    "solexa_bam_snp_depths = pd.read_csv('../cnv_data/NA12878_Solexa_WES.vcf.depths.bed', sep='\\t')\n",
    "pond_bam_snp_depths = pd.read_csv('../cnv_data/NA12878_Pond_WES.vcf.depths.bed', sep='\\t')"
   ]
  },
  {
   "cell_type": "code",
   "execution_count": 3,
   "id": "a0000fcf",
   "metadata": {},
   "outputs": [],
   "source": [
    "combo_depths = full_bam_snp_depths.merge(solexa_bam_snp_depths, on=['chr', 'pos'], suffixes=['_full', '_solexa']).merge(pond_bam_snp_depths, on=['chr', 'pos']).rename(columns={'depth': 'depth_pond'})\n",
    "combo_depths.set_index(['chr', 'pos'], inplace=True)\n",
    "combo_depths['depth_combo'] = combo_depths['depth_solexa'] + combo_depths['depth_pond']\n",
    "\n"
   ]
  },
  {
   "cell_type": "code",
   "execution_count": 5,
   "id": "54dab0b0",
   "metadata": {},
   "outputs": [
    {
     "data": {
      "text/html": [
       "<div>\n",
       "<style scoped>\n",
       "    .dataframe tbody tr th:only-of-type {\n",
       "        vertical-align: middle;\n",
       "    }\n",
       "\n",
       "    .dataframe tbody tr th {\n",
       "        vertical-align: top;\n",
       "    }\n",
       "\n",
       "    .dataframe thead th {\n",
       "        text-align: right;\n",
       "    }\n",
       "</style>\n",
       "<table border=\"1\" class=\"dataframe\">\n",
       "  <thead>\n",
       "    <tr style=\"text-align: right;\">\n",
       "      <th></th>\n",
       "      <th></th>\n",
       "      <th>depth_full</th>\n",
       "      <th>depth_solexa</th>\n",
       "      <th>depth_pond</th>\n",
       "      <th>depth_combo</th>\n",
       "    </tr>\n",
       "    <tr>\n",
       "      <th>chr</th>\n",
       "      <th>pos</th>\n",
       "      <th></th>\n",
       "      <th></th>\n",
       "      <th></th>\n",
       "      <th></th>\n",
       "    </tr>\n",
       "  </thead>\n",
       "  <tbody>\n",
       "    <tr>\n",
       "      <th rowspan=\"3\" valign=\"top\">chr3</th>\n",
       "      <th>93470446</th>\n",
       "      <td>6745</td>\n",
       "      <td>6740</td>\n",
       "      <td>39</td>\n",
       "      <td>6779</td>\n",
       "    </tr>\n",
       "    <tr>\n",
       "      <th>93470523</th>\n",
       "      <td>7214</td>\n",
       "      <td>7218</td>\n",
       "      <td>64</td>\n",
       "      <td>7282</td>\n",
       "    </tr>\n",
       "    <tr>\n",
       "      <th>93470569</th>\n",
       "      <td>6627</td>\n",
       "      <td>6623</td>\n",
       "      <td>75</td>\n",
       "      <td>6698</td>\n",
       "    </tr>\n",
       "  </tbody>\n",
       "</table>\n",
       "</div>"
      ],
      "text/plain": [
       "               depth_full  depth_solexa  depth_pond  depth_combo\n",
       "chr  pos                                                        \n",
       "chr3 93470446        6745          6740          39         6779\n",
       "     93470523        7214          7218          64         7282\n",
       "     93470569        6627          6623          75         6698"
      ]
     },
     "execution_count": 5,
     "metadata": {},
     "output_type": "execute_result"
    }
   ],
   "source": [
    "combo_depths[(combo_depths['depth_combo'] - combo_depths['depth_full']) != 0]"
   ]
  },
  {
   "cell_type": "markdown",
   "id": "60161106",
   "metadata": {},
   "source": [
    "After re-running the depth workflow, there are only three positions where the combined Solexa + Pond do not equal the Full bam depth. These positions probably got corrupted somehow. But 3 out of 4167898 is fine"
   ]
  },
  {
   "cell_type": "code",
   "execution_count": 37,
   "id": "2a9c4084",
   "metadata": {},
   "outputs": [
    {
     "data": {
      "image/png": "[encoded data removed]",
      "text/plain": [
       "<Figure size 432x288 with 1 Axes>"
      ]
     },
     "metadata": {
      "needs_background": "light"
     },
     "output_type": "display_data"
    }
   ],
   "source": [
    "ax = (combo_depths['depth_solexa'] - combo_depths['depth_pond']).value_counts().sort_index().reset_index().rename(columns={'index':'read difference', 0:'frequency'}).plot.scatter(x='read difference', y='frequency', logy=True, xlim=[-500, 2200]) #, xticks=[-20, 0, 20, 40, 60, 80])\n"
   ]
  },
  {
   "cell_type": "code",
   "execution_count": 39,
   "id": "9fb7e24a",
   "metadata": {},
   "outputs": [
    {
     "data": {
      "text/plain": [
       "<AxesSubplot:xlabel='difference', ylabel='depth_full'>"
      ]
     },
     "execution_count": 39,
     "metadata": {},
     "output_type": "execute_result"
    },
    {
     "data": {
      "image/png": "[encoded data removed]",
      "text/plain": [
       "<Figure size 432x288 with 1 Axes>"
      ]
     },
     "metadata": {
      "needs_background": "light"
     },
     "output_type": "display_data"
    }
   ],
   "source": [
    "combo_depths['difference'] = combo_depths['depth_solexa'] - combo_depths['depth_pond']\n",
    "combo_depths.plot.scatter(x='difference', y='depth_full', alpha=0.2)"
   ]
  },
  {
   "cell_type": "markdown",
   "id": "b7f374ff",
   "metadata": {},
   "source": [
    "It does seem that Solexa has more reads (the distribution of the differences is skewed towards the right), however most of the SNPs have approximately an equal number of reads in the Solexa and Pond bams. Most of the outlier Solexa SNPs seem that there is no coverage in the Pond bam (x=y line for difference and full depth). But the remainder are fairly normally distributed (with slight skew towards Solexa). We should use Solexa for the \"Tumor\" sample."
   ]
  },
  {
   "cell_type": "code",
   "execution_count": 40,
   "id": "2f929435",
   "metadata": {},
   "outputs": [
    {
     "data": {
      "text/html": [
       "<div>\n",
       "<style scoped>\n",
       "    .dataframe tbody tr th:only-of-type {\n",
       "        vertical-align: middle;\n",
       "    }\n",
       "\n",
       "    .dataframe tbody tr th {\n",
       "        vertical-align: top;\n",
       "    }\n",
       "\n",
       "    .dataframe thead th {\n",
       "        text-align: right;\n",
       "    }\n",
       "</style>\n",
       "<table border=\"1\" class=\"dataframe\">\n",
       "  <thead>\n",
       "    <tr style=\"text-align: right;\">\n",
       "      <th></th>\n",
       "      <th>depth_full</th>\n",
       "      <th>depth_solexa</th>\n",
       "      <th>depth_pond</th>\n",
       "      <th>depth_combo</th>\n",
       "      <th>difference</th>\n",
       "    </tr>\n",
       "  </thead>\n",
       "  <tbody>\n",
       "    <tr>\n",
       "      <th>count</th>\n",
       "      <td>4.167898e+06</td>\n",
       "      <td>4.167898e+06</td>\n",
       "      <td>4.167898e+06</td>\n",
       "      <td>4.167898e+06</td>\n",
       "      <td>4.167898e+06</td>\n",
       "    </tr>\n",
       "    <tr>\n",
       "      <th>mean</th>\n",
       "      <td>4.358883e+00</td>\n",
       "      <td>3.414548e+00</td>\n",
       "      <td>9.443765e-01</td>\n",
       "      <td>4.358924e+00</td>\n",
       "      <td>2.470171e+00</td>\n",
       "    </tr>\n",
       "    <tr>\n",
       "      <th>std</th>\n",
       "      <td>2.302164e+01</td>\n",
       "      <td>1.454873e+01</td>\n",
       "      <td>9.671428e+00</td>\n",
       "      <td>2.303410e+01</td>\n",
       "      <td>8.935024e+00</td>\n",
       "    </tr>\n",
       "    <tr>\n",
       "      <th>min</th>\n",
       "      <td>0.000000e+00</td>\n",
       "      <td>0.000000e+00</td>\n",
       "      <td>0.000000e+00</td>\n",
       "      <td>0.000000e+00</td>\n",
       "      <td>-4.960000e+02</td>\n",
       "    </tr>\n",
       "    <tr>\n",
       "      <th>25%</th>\n",
       "      <td>1.000000e+00</td>\n",
       "      <td>1.000000e+00</td>\n",
       "      <td>0.000000e+00</td>\n",
       "      <td>1.000000e+00</td>\n",
       "      <td>1.000000e+00</td>\n",
       "    </tr>\n",
       "    <tr>\n",
       "      <th>50%</th>\n",
       "      <td>2.000000e+00</td>\n",
       "      <td>2.000000e+00</td>\n",
       "      <td>0.000000e+00</td>\n",
       "      <td>2.000000e+00</td>\n",
       "      <td>2.000000e+00</td>\n",
       "    </tr>\n",
       "    <tr>\n",
       "      <th>75%</th>\n",
       "      <td>3.000000e+00</td>\n",
       "      <td>3.000000e+00</td>\n",
       "      <td>0.000000e+00</td>\n",
       "      <td>3.000000e+00</td>\n",
       "      <td>3.000000e+00</td>\n",
       "    </tr>\n",
       "    <tr>\n",
       "      <th>max</th>\n",
       "      <td>7.214000e+03</td>\n",
       "      <td>7.218000e+03</td>\n",
       "      <td>1.850000e+03</td>\n",
       "      <td>7.282000e+03</td>\n",
       "      <td>7.154000e+03</td>\n",
       "    </tr>\n",
       "  </tbody>\n",
       "</table>\n",
       "</div>"
      ],
      "text/plain": [
       "         depth_full  depth_solexa    depth_pond   depth_combo    difference\n",
       "count  4.167898e+06  4.167898e+06  4.167898e+06  4.167898e+06  4.167898e+06\n",
       "mean   4.358883e+00  3.414548e+00  9.443765e-01  4.358924e+00  2.470171e+00\n",
       "std    2.302164e+01  1.454873e+01  9.671428e+00  2.303410e+01  8.935024e+00\n",
       "min    0.000000e+00  0.000000e+00  0.000000e+00  0.000000e+00 -4.960000e+02\n",
       "25%    1.000000e+00  1.000000e+00  0.000000e+00  1.000000e+00  1.000000e+00\n",
       "50%    2.000000e+00  2.000000e+00  0.000000e+00  2.000000e+00  2.000000e+00\n",
       "75%    3.000000e+00  3.000000e+00  0.000000e+00  3.000000e+00  3.000000e+00\n",
       "max    7.214000e+03  7.218000e+03  1.850000e+03  7.282000e+03  7.154000e+03"
      ]
     },
     "execution_count": 40,
     "metadata": {},
     "output_type": "execute_result"
    }
   ],
   "source": [
    "combo_depths.describe()"
   ]
  },
  {
   "cell_type": "markdown",
   "id": "346b76c7",
   "metadata": {},
   "source": [
    "It seems that the majority of the Pond SNPs have 0 coverage??? Maybe it won't work as a normal? Oh wait, the Solexa/Full have <3 depth for 75% of the SNPs, because these are exons. I should filter this down to just look at higher coverage areas."
   ]
  },
  {
   "cell_type": "code",
   "execution_count": 86,
   "id": "ff34edbc",
   "metadata": {},
   "outputs": [
    {
     "data": {
      "text/html": [
       "<div>\n",
       "<style scoped>\n",
       "    .dataframe tbody tr th:only-of-type {\n",
       "        vertical-align: middle;\n",
       "    }\n",
       "\n",
       "    .dataframe tbody tr th {\n",
       "        vertical-align: top;\n",
       "    }\n",
       "\n",
       "    .dataframe thead th {\n",
       "        text-align: right;\n",
       "    }\n",
       "</style>\n",
       "<table border=\"1\" class=\"dataframe\">\n",
       "  <thead>\n",
       "    <tr style=\"text-align: right;\">\n",
       "      <th></th>\n",
       "      <th>depth_full</th>\n",
       "      <th>depth_solexa</th>\n",
       "      <th>depth_pond</th>\n",
       "      <th>depth_combo</th>\n",
       "      <th>difference</th>\n",
       "    </tr>\n",
       "  </thead>\n",
       "  <tbody>\n",
       "    <tr>\n",
       "      <th>count</th>\n",
       "      <td>102910.00000</td>\n",
       "      <td>102910.000000</td>\n",
       "      <td>102910.000000</td>\n",
       "      <td>102910.000000</td>\n",
       "      <td>102910.000000</td>\n",
       "    </tr>\n",
       "    <tr>\n",
       "      <th>mean</th>\n",
       "      <td>87.61683</td>\n",
       "      <td>51.417316</td>\n",
       "      <td>36.201195</td>\n",
       "      <td>87.618511</td>\n",
       "      <td>15.216121</td>\n",
       "    </tr>\n",
       "    <tr>\n",
       "      <th>std</th>\n",
       "      <td>119.35385</td>\n",
       "      <td>78.133222</td>\n",
       "      <td>50.104378</td>\n",
       "      <td>119.449935</td>\n",
       "      <td>54.426198</td>\n",
       "    </tr>\n",
       "    <tr>\n",
       "      <th>min</th>\n",
       "      <td>11.00000</td>\n",
       "      <td>0.000000</td>\n",
       "      <td>0.000000</td>\n",
       "      <td>11.000000</td>\n",
       "      <td>-496.000000</td>\n",
       "    </tr>\n",
       "    <tr>\n",
       "      <th>25%</th>\n",
       "      <td>22.00000</td>\n",
       "      <td>14.000000</td>\n",
       "      <td>7.000000</td>\n",
       "      <td>22.000000</td>\n",
       "      <td>3.000000</td>\n",
       "    </tr>\n",
       "    <tr>\n",
       "      <th>50%</th>\n",
       "      <td>50.00000</td>\n",
       "      <td>29.000000</td>\n",
       "      <td>20.000000</td>\n",
       "      <td>50.000000</td>\n",
       "      <td>10.000000</td>\n",
       "    </tr>\n",
       "    <tr>\n",
       "      <th>75%</th>\n",
       "      <td>114.00000</td>\n",
       "      <td>65.000000</td>\n",
       "      <td>48.000000</td>\n",
       "      <td>114.000000</td>\n",
       "      <td>20.000000</td>\n",
       "    </tr>\n",
       "    <tr>\n",
       "      <th>max</th>\n",
       "      <td>7214.00000</td>\n",
       "      <td>7218.000000</td>\n",
       "      <td>1850.000000</td>\n",
       "      <td>7282.000000</td>\n",
       "      <td>7154.000000</td>\n",
       "    </tr>\n",
       "  </tbody>\n",
       "</table>\n",
       "</div>"
      ],
      "text/plain": [
       "         depth_full   depth_solexa     depth_pond    depth_combo  \\\n",
       "count  102910.00000  102910.000000  102910.000000  102910.000000   \n",
       "mean       87.61683      51.417316      36.201195      87.618511   \n",
       "std       119.35385      78.133222      50.104378     119.449935   \n",
       "min        11.00000       0.000000       0.000000      11.000000   \n",
       "25%        22.00000      14.000000       7.000000      22.000000   \n",
       "50%        50.00000      29.000000      20.000000      50.000000   \n",
       "75%       114.00000      65.000000      48.000000     114.000000   \n",
       "max      7214.00000    7218.000000    1850.000000    7282.000000   \n",
       "\n",
       "          difference  \n",
       "count  102910.000000  \n",
       "mean       15.216121  \n",
       "std        54.426198  \n",
       "min      -496.000000  \n",
       "25%         3.000000  \n",
       "50%        10.000000  \n",
       "75%        20.000000  \n",
       "max      7154.000000  "
      ]
     },
     "execution_count": 86,
     "metadata": {},
     "output_type": "execute_result"
    }
   ],
   "source": [
    "combo_depths[combo_depths['depth_full'] > 10].describe()"
   ]
  },
  {
   "cell_type": "markdown",
   "id": "e994cdaa",
   "metadata": {},
   "source": [
    "### Investigate the binned coverage (on Exons)"
   ]
  },
  {
   "cell_type": "code",
   "execution_count": 45,
   "id": "6a9f4243",
   "metadata": {},
   "outputs": [],
   "source": [
    "full_bam_exon_depths = pd.read_csv('../cnv_data/NA12878.WES.phase1_2_combined.hg38.binned_coverage.bed', sep='\\t', header=None, names=['chr', 'start', 'end', 'cov', 'covraw'])\n",
    "solexa_bam_exon_depths = pd.read_csv('../cnv_data/NA12878.Solexa_WES.phase1_2_combined.hg38.binned_coverage.bed', sep='\\t', header=None, names=['chr', 'start', 'end', 'cov', 'covraw'])\n",
    "pond_bam_exon_depths = pd.read_csv('../cnv_data/NA12878.Pond_WES.phase1_2_combined.hg38.binned_coverage.bed', sep='\\t', header=None, names=['chr', 'start', 'end', 'cov', 'covraw'])"
   ]
  },
  {
   "cell_type": "code",
   "execution_count": 52,
   "id": "aeea2e86",
   "metadata": {},
   "outputs": [],
   "source": [
    "combined_exon_depths = full_bam_exon_depths.drop(columns='covraw').rename(columns={'cov':'cov_full'}).merge(solexa_bam_exon_depths.drop(columns='covraw').rename(columns={'cov':'cov_solexa'}), on=['chr', 'start', 'end']).merge(pond_bam_exon_depths.drop(columns='covraw').rename(columns={'cov':'cov_pond'}), on=['chr', 'start', 'end'])\n"
   ]
  },
  {
   "cell_type": "code",
   "execution_count": 54,
   "id": "20fa4a7c",
   "metadata": {},
   "outputs": [],
   "source": [
    "combined_exon_depths['cov_combined'] = combined_exon_depths['cov_solexa'] + combined_exon_depths['cov_pond']\n",
    "combined_exon_depths['cov_difference'] = combined_exon_depths['cov_solexa'] - combined_exon_depths['cov_pond']"
   ]
  },
  {
   "cell_type": "code",
   "execution_count": 60,
   "id": "31eff874",
   "metadata": {},
   "outputs": [
    {
     "data": {
      "text/html": [
       "<div>\n",
       "<style scoped>\n",
       "    .dataframe tbody tr th:only-of-type {\n",
       "        vertical-align: middle;\n",
       "    }\n",
       "\n",
       "    .dataframe tbody tr th {\n",
       "        vertical-align: top;\n",
       "    }\n",
       "\n",
       "    .dataframe thead th {\n",
       "        text-align: right;\n",
       "    }\n",
       "</style>\n",
       "<table border=\"1\" class=\"dataframe\">\n",
       "  <thead>\n",
       "    <tr style=\"text-align: right;\">\n",
       "      <th></th>\n",
       "      <th>chr</th>\n",
       "      <th>start</th>\n",
       "      <th>end</th>\n",
       "      <th>cov_full</th>\n",
       "      <th>cov_solexa</th>\n",
       "      <th>cov_pond</th>\n",
       "      <th>cov_combined</th>\n",
       "      <th>cov_difference</th>\n",
       "    </tr>\n",
       "  </thead>\n",
       "  <tbody>\n",
       "    <tr>\n",
       "      <th>1185</th>\n",
       "      <td>chr1</td>\n",
       "      <td>11255992</td>\n",
       "      <td>11256192</td>\n",
       "      <td>23946</td>\n",
       "      <td>13715</td>\n",
       "      <td>10259</td>\n",
       "      <td>23974</td>\n",
       "      <td>3456</td>\n",
       "    </tr>\n",
       "    <tr>\n",
       "      <th>2539</th>\n",
       "      <td>chr19</td>\n",
       "      <td>12828869</td>\n",
       "      <td>12828953</td>\n",
       "      <td>21824</td>\n",
       "      <td>13899</td>\n",
       "      <td>8002</td>\n",
       "      <td>21901</td>\n",
       "      <td>5897</td>\n",
       "    </tr>\n",
       "    <tr>\n",
       "      <th>4991</th>\n",
       "      <td>chr19</td>\n",
       "      <td>39026870</td>\n",
       "      <td>39027005</td>\n",
       "      <td>59098</td>\n",
       "      <td>37203</td>\n",
       "      <td>21940</td>\n",
       "      <td>59143</td>\n",
       "      <td>15263</td>\n",
       "    </tr>\n",
       "    <tr>\n",
       "      <th>7295</th>\n",
       "      <td>chr19</td>\n",
       "      <td>50413742</td>\n",
       "      <td>50413879</td>\n",
       "      <td>29141</td>\n",
       "      <td>17499</td>\n",
       "      <td>11755</td>\n",
       "      <td>29254</td>\n",
       "      <td>5744</td>\n",
       "    </tr>\n",
       "    <tr>\n",
       "      <th>10499</th>\n",
       "      <td>chr2</td>\n",
       "      <td>28852408</td>\n",
       "      <td>28852499</td>\n",
       "      <td>21852</td>\n",
       "      <td>8118</td>\n",
       "      <td>13748</td>\n",
       "      <td>21866</td>\n",
       "      <td>-5630</td>\n",
       "    </tr>\n",
       "    <tr>\n",
       "      <th>...</th>\n",
       "      <td>...</td>\n",
       "      <td>...</td>\n",
       "      <td>...</td>\n",
       "      <td>...</td>\n",
       "      <td>...</td>\n",
       "      <td>...</td>\n",
       "      <td>...</td>\n",
       "      <td>...</td>\n",
       "    </tr>\n",
       "    <tr>\n",
       "      <th>142371</th>\n",
       "      <td>chr17</td>\n",
       "      <td>75874483</td>\n",
       "      <td>75875123</td>\n",
       "      <td>121829</td>\n",
       "      <td>74226</td>\n",
       "      <td>47612</td>\n",
       "      <td>121838</td>\n",
       "      <td>26614</td>\n",
       "    </tr>\n",
       "    <tr>\n",
       "      <th>144539</th>\n",
       "      <td>chr18</td>\n",
       "      <td>42057883</td>\n",
       "      <td>42058051</td>\n",
       "      <td>29606</td>\n",
       "      <td>19008</td>\n",
       "      <td>10713</td>\n",
       "      <td>29721</td>\n",
       "      <td>8295</td>\n",
       "    </tr>\n",
       "    <tr>\n",
       "      <th>145456</th>\n",
       "      <td>chr19</td>\n",
       "      <td>327864</td>\n",
       "      <td>327989</td>\n",
       "      <td>11213</td>\n",
       "      <td>7099</td>\n",
       "      <td>4289</td>\n",
       "      <td>11388</td>\n",
       "      <td>2810</td>\n",
       "    </tr>\n",
       "    <tr>\n",
       "      <th>146468</th>\n",
       "      <td>chr19</td>\n",
       "      <td>5144783</td>\n",
       "      <td>5144902</td>\n",
       "      <td>17922</td>\n",
       "      <td>10498</td>\n",
       "      <td>7474</td>\n",
       "      <td>17972</td>\n",
       "      <td>3024</td>\n",
       "    </tr>\n",
       "    <tr>\n",
       "      <th>147223</th>\n",
       "      <td>chr19</td>\n",
       "      <td>9158826</td>\n",
       "      <td>9158908</td>\n",
       "      <td>15406</td>\n",
       "      <td>10048</td>\n",
       "      <td>5376</td>\n",
       "      <td>15424</td>\n",
       "      <td>4672</td>\n",
       "    </tr>\n",
       "  </tbody>\n",
       "</table>\n",
       "<p>115 rows × 8 columns</p>\n",
       "</div>"
      ],
      "text/plain": [
       "          chr     start       end  cov_full  cov_solexa  cov_pond  \\\n",
       "1185     chr1  11255992  11256192     23946       13715     10259   \n",
       "2539    chr19  12828869  12828953     21824       13899      8002   \n",
       "4991    chr19  39026870  39027005     59098       37203     21940   \n",
       "7295    chr19  50413742  50413879     29141       17499     11755   \n",
       "10499    chr2  28852408  28852499     21852        8118     13748   \n",
       "...       ...       ...       ...       ...         ...       ...   \n",
       "142371  chr17  75874483  75875123    121829       74226     47612   \n",
       "144539  chr18  42057883  42058051     29606       19008     10713   \n",
       "145456  chr19    327864    327989     11213        7099      4289   \n",
       "146468  chr19   5144783   5144902     17922       10498      7474   \n",
       "147223  chr19   9158826   9158908     15406       10048      5376   \n",
       "\n",
       "        cov_combined  cov_difference  \n",
       "1185           23974            3456  \n",
       "2539           21901            5897  \n",
       "4991           59143           15263  \n",
       "7295           29254            5744  \n",
       "10499          21866           -5630  \n",
       "...              ...             ...  \n",
       "142371        121838           26614  \n",
       "144539         29721            8295  \n",
       "145456         11388            2810  \n",
       "146468         17972            3024  \n",
       "147223         15424            4672  \n",
       "\n",
       "[115 rows x 8 columns]"
      ]
     },
     "execution_count": 60,
     "metadata": {},
     "output_type": "execute_result"
    }
   ],
   "source": [
    "not_equal = combined_exon_depths[combined_exon_depths['cov_full'] - combined_exon_depths['cov_combined'] != 0]\n",
    "not_equal"
   ]
  },
  {
   "cell_type": "code",
   "execution_count": 63,
   "id": "e6ee1fc9",
   "metadata": {},
   "outputs": [
    {
     "data": {
      "text/plain": [
       "78.17391304347827"
      ]
     },
     "execution_count": 63,
     "metadata": {},
     "output_type": "execute_result"
    }
   ],
   "source": [
    "abs(np.asarray(not_equal['cov_full'] - not_equal['cov_combined'])).mean()"
   ]
  },
  {
   "cell_type": "markdown",
   "id": "5bfaa84c",
   "metadata": {},
   "source": [
    "The coverage differences are pretty small - only effects 115 exons out of 147654"
   ]
  },
  {
   "cell_type": "code",
   "execution_count": 65,
   "id": "8157fdf4",
   "metadata": {},
   "outputs": [
    {
     "data": {
      "text/html": [
       "<div>\n",
       "<style scoped>\n",
       "    .dataframe tbody tr th:only-of-type {\n",
       "        vertical-align: middle;\n",
       "    }\n",
       "\n",
       "    .dataframe tbody tr th {\n",
       "        vertical-align: top;\n",
       "    }\n",
       "\n",
       "    .dataframe thead th {\n",
       "        text-align: right;\n",
       "    }\n",
       "</style>\n",
       "<table border=\"1\" class=\"dataframe\">\n",
       "  <thead>\n",
       "    <tr style=\"text-align: right;\">\n",
       "      <th></th>\n",
       "      <th>start</th>\n",
       "      <th>end</th>\n",
       "      <th>cov_full</th>\n",
       "      <th>cov_solexa</th>\n",
       "      <th>cov_pond</th>\n",
       "      <th>cov_combined</th>\n",
       "      <th>cov_difference</th>\n",
       "    </tr>\n",
       "  </thead>\n",
       "  <tbody>\n",
       "    <tr>\n",
       "      <th>count</th>\n",
       "      <td>1.476540e+05</td>\n",
       "      <td>1.476540e+05</td>\n",
       "      <td>1.476540e+05</td>\n",
       "      <td>1.476540e+05</td>\n",
       "      <td>1.476540e+05</td>\n",
       "      <td>1.476540e+05</td>\n",
       "      <td>1.476540e+05</td>\n",
       "    </tr>\n",
       "    <tr>\n",
       "      <th>mean</th>\n",
       "      <td>7.564929e+07</td>\n",
       "      <td>7.564945e+07</td>\n",
       "      <td>3.782340e+04</td>\n",
       "      <td>2.230044e+04</td>\n",
       "      <td>1.552301e+04</td>\n",
       "      <td>3.782345e+04</td>\n",
       "      <td>6.777430e+03</td>\n",
       "    </tr>\n",
       "    <tr>\n",
       "      <th>std</th>\n",
       "      <td>5.566113e+07</td>\n",
       "      <td>5.566113e+07</td>\n",
       "      <td>8.905867e+04</td>\n",
       "      <td>5.284310e+04</td>\n",
       "      <td>3.661330e+04</td>\n",
       "      <td>8.905868e+04</td>\n",
       "      <td>1.828674e+04</td>\n",
       "    </tr>\n",
       "    <tr>\n",
       "      <th>min</th>\n",
       "      <td>4.705700e+04</td>\n",
       "      <td>4.706000e+04</td>\n",
       "      <td>0.000000e+00</td>\n",
       "      <td>0.000000e+00</td>\n",
       "      <td>0.000000e+00</td>\n",
       "      <td>0.000000e+00</td>\n",
       "      <td>-6.186500e+04</td>\n",
       "    </tr>\n",
       "    <tr>\n",
       "      <th>25%</th>\n",
       "      <td>3.331163e+07</td>\n",
       "      <td>3.331175e+07</td>\n",
       "      <td>1.168000e+04</td>\n",
       "      <td>6.288000e+03</td>\n",
       "      <td>4.982000e+03</td>\n",
       "      <td>1.168000e+04</td>\n",
       "      <td>5.010000e+02</td>\n",
       "    </tr>\n",
       "    <tr>\n",
       "      <th>50%</th>\n",
       "      <td>6.196074e+07</td>\n",
       "      <td>6.196097e+07</td>\n",
       "      <td>2.359400e+04</td>\n",
       "      <td>1.332400e+04</td>\n",
       "      <td>9.986500e+03</td>\n",
       "      <td>2.359400e+04</td>\n",
       "      <td>3.322000e+03</td>\n",
       "    </tr>\n",
       "    <tr>\n",
       "      <th>75%</th>\n",
       "      <td>1.120457e+08</td>\n",
       "      <td>1.120458e+08</td>\n",
       "      <td>4.134975e+04</td>\n",
       "      <td>2.426100e+04</td>\n",
       "      <td>1.729300e+04</td>\n",
       "      <td>4.134975e+04</td>\n",
       "      <td>8.108000e+03</td>\n",
       "    </tr>\n",
       "    <tr>\n",
       "      <th>max</th>\n",
       "      <td>2.489139e+08</td>\n",
       "      <td>2.489139e+08</td>\n",
       "      <td>1.324130e+07</td>\n",
       "      <td>7.438584e+06</td>\n",
       "      <td>5.802718e+06</td>\n",
       "      <td>1.324130e+07</td>\n",
       "      <td>1.635866e+06</td>\n",
       "    </tr>\n",
       "  </tbody>\n",
       "</table>\n",
       "</div>"
      ],
      "text/plain": [
       "              start           end      cov_full    cov_solexa      cov_pond  \\\n",
       "count  1.476540e+05  1.476540e+05  1.476540e+05  1.476540e+05  1.476540e+05   \n",
       "mean   7.564929e+07  7.564945e+07  3.782340e+04  2.230044e+04  1.552301e+04   \n",
       "std    5.566113e+07  5.566113e+07  8.905867e+04  5.284310e+04  3.661330e+04   \n",
       "min    4.705700e+04  4.706000e+04  0.000000e+00  0.000000e+00  0.000000e+00   \n",
       "25%    3.331163e+07  3.331175e+07  1.168000e+04  6.288000e+03  4.982000e+03   \n",
       "50%    6.196074e+07  6.196097e+07  2.359400e+04  1.332400e+04  9.986500e+03   \n",
       "75%    1.120457e+08  1.120458e+08  4.134975e+04  2.426100e+04  1.729300e+04   \n",
       "max    2.489139e+08  2.489139e+08  1.324130e+07  7.438584e+06  5.802718e+06   \n",
       "\n",
       "       cov_combined  cov_difference  \n",
       "count  1.476540e+05    1.476540e+05  \n",
       "mean   3.782345e+04    6.777430e+03  \n",
       "std    8.905868e+04    1.828674e+04  \n",
       "min    0.000000e+00   -6.186500e+04  \n",
       "25%    1.168000e+04    5.010000e+02  \n",
       "50%    2.359400e+04    3.322000e+03  \n",
       "75%    4.134975e+04    8.108000e+03  \n",
       "max    1.324130e+07    1.635866e+06  "
      ]
     },
     "execution_count": 65,
     "metadata": {},
     "output_type": "execute_result"
    }
   ],
   "source": [
    "combined_exon_depths.describe()"
   ]
  },
  {
   "cell_type": "code",
   "execution_count": 73,
   "id": "c7969114",
   "metadata": {},
   "outputs": [
    {
     "data": {
      "text/plain": [
       "count    147654.000000\n",
       "mean        163.775272\n",
       "std         233.887703\n",
       "min           1.000000\n",
       "25%          85.000000\n",
       "50%         122.000000\n",
       "75%         169.000000\n",
       "max       17330.000000\n",
       "dtype: float64"
      ]
     },
     "execution_count": 73,
     "metadata": {},
     "output_type": "execute_result"
    }
   ],
   "source": [
    "(combined_exon_depths['end'] - combined_exon_depths['start']).describe()"
   ]
  },
  {
   "cell_type": "code",
   "execution_count": 67,
   "id": "6f094b05",
   "metadata": {},
   "outputs": [
    {
     "data": {
      "text/plain": [
       "<AxesSubplot:xlabel='cov_difference', ylabel='cov_full'>"
      ]
     },
     "execution_count": 67,
     "metadata": {},
     "output_type": "execute_result"
    },
    {
     "data": {
      "image/png": "[encoded data removed]",
      "text/plain": [
       "<Figure size 432x288 with 1 Axes>"
      ]
     },
     "metadata": {
      "needs_background": "light"
     },
     "output_type": "display_data"
    }
   ],
   "source": [
    "combined_exon_depths.plot.scatter(x='cov_difference', y='cov_full', logx=True, logy=True, alpha=0.2)"
   ]
  },
  {
   "cell_type": "code",
   "execution_count": 69,
   "id": "b8a89708",
   "metadata": {},
   "outputs": [
    {
     "data": {
      "text/html": [
       "<div>\n",
       "<style scoped>\n",
       "    .dataframe tbody tr th:only-of-type {\n",
       "        vertical-align: middle;\n",
       "    }\n",
       "\n",
       "    .dataframe tbody tr th {\n",
       "        vertical-align: top;\n",
       "    }\n",
       "\n",
       "    .dataframe thead th {\n",
       "        text-align: right;\n",
       "    }\n",
       "</style>\n",
       "<table border=\"1\" class=\"dataframe\">\n",
       "  <thead>\n",
       "    <tr style=\"text-align: right;\">\n",
       "      <th></th>\n",
       "      <th>chr</th>\n",
       "      <th>start</th>\n",
       "      <th>end</th>\n",
       "      <th>cov_full</th>\n",
       "      <th>cov_solexa</th>\n",
       "      <th>cov_pond</th>\n",
       "      <th>cov_combined</th>\n",
       "      <th>cov_difference</th>\n",
       "    </tr>\n",
       "  </thead>\n",
       "  <tbody>\n",
       "    <tr>\n",
       "      <th>144</th>\n",
       "      <td>chr1</td>\n",
       "      <td>1246514</td>\n",
       "      <td>1246690</td>\n",
       "      <td>98</td>\n",
       "      <td>98</td>\n",
       "      <td>0</td>\n",
       "      <td>98</td>\n",
       "      <td>98</td>\n",
       "    </tr>\n",
       "    <tr>\n",
       "      <th>254</th>\n",
       "      <td>chr1</td>\n",
       "      <td>1439766</td>\n",
       "      <td>1439787</td>\n",
       "      <td>21</td>\n",
       "      <td>21</td>\n",
       "      <td>0</td>\n",
       "      <td>21</td>\n",
       "      <td>21</td>\n",
       "    </tr>\n",
       "    <tr>\n",
       "      <th>292</th>\n",
       "      <td>chr1</td>\n",
       "      <td>1632219</td>\n",
       "      <td>1632374</td>\n",
       "      <td>34</td>\n",
       "      <td>34</td>\n",
       "      <td>0</td>\n",
       "      <td>34</td>\n",
       "      <td>34</td>\n",
       "    </tr>\n",
       "    <tr>\n",
       "      <th>335</th>\n",
       "      <td>chr1</td>\n",
       "      <td>1919044</td>\n",
       "      <td>1919088</td>\n",
       "      <td>176</td>\n",
       "      <td>176</td>\n",
       "      <td>0</td>\n",
       "      <td>176</td>\n",
       "      <td>176</td>\n",
       "    </tr>\n",
       "    <tr>\n",
       "      <th>374</th>\n",
       "      <td>chr1</td>\n",
       "      <td>2306577</td>\n",
       "      <td>2306765</td>\n",
       "      <td>587</td>\n",
       "      <td>587</td>\n",
       "      <td>0</td>\n",
       "      <td>587</td>\n",
       "      <td>587</td>\n",
       "    </tr>\n",
       "    <tr>\n",
       "      <th>...</th>\n",
       "      <td>...</td>\n",
       "      <td>...</td>\n",
       "      <td>...</td>\n",
       "      <td>...</td>\n",
       "      <td>...</td>\n",
       "      <td>...</td>\n",
       "      <td>...</td>\n",
       "      <td>...</td>\n",
       "    </tr>\n",
       "    <tr>\n",
       "      <th>147269</th>\n",
       "      <td>chr19</td>\n",
       "      <td>9835344</td>\n",
       "      <td>9835402</td>\n",
       "      <td>116</td>\n",
       "      <td>116</td>\n",
       "      <td>0</td>\n",
       "      <td>116</td>\n",
       "      <td>116</td>\n",
       "    </tr>\n",
       "    <tr>\n",
       "      <th>147278</th>\n",
       "      <td>chr19</td>\n",
       "      <td>9936303</td>\n",
       "      <td>9936366</td>\n",
       "      <td>61</td>\n",
       "      <td>61</td>\n",
       "      <td>0</td>\n",
       "      <td>61</td>\n",
       "      <td>61</td>\n",
       "    </tr>\n",
       "    <tr>\n",
       "      <th>147345</th>\n",
       "      <td>chr19</td>\n",
       "      <td>10010298</td>\n",
       "      <td>10010385</td>\n",
       "      <td>90</td>\n",
       "      <td>90</td>\n",
       "      <td>0</td>\n",
       "      <td>90</td>\n",
       "      <td>90</td>\n",
       "    </tr>\n",
       "    <tr>\n",
       "      <th>147357</th>\n",
       "      <td>chr19</td>\n",
       "      <td>10096289</td>\n",
       "      <td>10096484</td>\n",
       "      <td>108</td>\n",
       "      <td>108</td>\n",
       "      <td>0</td>\n",
       "      <td>108</td>\n",
       "      <td>108</td>\n",
       "    </tr>\n",
       "    <tr>\n",
       "      <th>147646</th>\n",
       "      <td>chr19</td>\n",
       "      <td>10928379</td>\n",
       "      <td>10928410</td>\n",
       "      <td>69</td>\n",
       "      <td>69</td>\n",
       "      <td>0</td>\n",
       "      <td>69</td>\n",
       "      <td>69</td>\n",
       "    </tr>\n",
       "  </tbody>\n",
       "</table>\n",
       "<p>826 rows × 8 columns</p>\n",
       "</div>"
      ],
      "text/plain": [
       "          chr     start       end  cov_full  cov_solexa  cov_pond  \\\n",
       "144      chr1   1246514   1246690        98          98         0   \n",
       "254      chr1   1439766   1439787        21          21         0   \n",
       "292      chr1   1632219   1632374        34          34         0   \n",
       "335      chr1   1919044   1919088       176         176         0   \n",
       "374      chr1   2306577   2306765       587         587         0   \n",
       "...       ...       ...       ...       ...         ...       ...   \n",
       "147269  chr19   9835344   9835402       116         116         0   \n",
       "147278  chr19   9936303   9936366        61          61         0   \n",
       "147345  chr19  10010298  10010385        90          90         0   \n",
       "147357  chr19  10096289  10096484       108         108         0   \n",
       "147646  chr19  10928379  10928410        69          69         0   \n",
       "\n",
       "        cov_combined  cov_difference  \n",
       "144               98              98  \n",
       "254               21              21  \n",
       "292               34              34  \n",
       "335              176             176  \n",
       "374              587             587  \n",
       "...              ...             ...  \n",
       "147269           116             116  \n",
       "147278            61              61  \n",
       "147345            90              90  \n",
       "147357           108             108  \n",
       "147646            69              69  \n",
       "\n",
       "[826 rows x 8 columns]"
      ]
     },
     "execution_count": 69,
     "metadata": {},
     "output_type": "execute_result"
    }
   ],
   "source": [
    "only_solexa = combined_exon_depths[(combined_exon_depths['cov_full'] != 0) & (combined_exon_depths['cov_full'] - combined_exon_depths['cov_solexa'] == 0)]\n",
    "only_solexa                                                  "
   ]
  },
  {
   "cell_type": "code",
   "execution_count": 71,
   "id": "6b8c6b1f",
   "metadata": {},
   "outputs": [
    {
     "data": {
      "text/plain": [
       "count     826.000000\n",
       "mean      182.786925\n",
       "std       298.199284\n",
       "min         1.000000\n",
       "25%        48.250000\n",
       "50%        96.000000\n",
       "75%       229.000000\n",
       "max      4689.000000\n",
       "Name: cov_full, dtype: float64"
      ]
     },
     "execution_count": 71,
     "metadata": {},
     "output_type": "execute_result"
    }
   ],
   "source": [
    "only_solexa['cov_full'].describe()"
   ]
  },
  {
   "cell_type": "code",
   "execution_count": 72,
   "id": "34a8bda6",
   "metadata": {},
   "outputs": [
    {
     "data": {
      "text/plain": [
       "count     826.000000\n",
       "mean       99.822034\n",
       "std        90.528381\n",
       "min         1.000000\n",
       "25%        49.000000\n",
       "50%        81.000000\n",
       "75%       120.000000\n",
       "max      1257.000000\n",
       "dtype: float64"
      ]
     },
     "execution_count": 72,
     "metadata": {},
     "output_type": "execute_result"
    }
   ],
   "source": [
    "(only_solexa['end'] - only_solexa['start']).describe()"
   ]
  },
  {
   "cell_type": "markdown",
   "id": "6b97ec80",
   "metadata": {},
   "source": [
    "There are 826 exons with coverage only in the Solexa bam. But these are all low coverage exons (75% have fewer than 229 coverage). They tend to be slightly smaller than average, but its more that they aren't covered heavily by even the full bam. I think it is probably fine to use the Pond as normal (especially if it is only being used for coverage) but I should discuss with Julian."
   ]
  },
  {
   "cell_type": "code",
   "execution_count": null,
   "id": "ff1d590d",
   "metadata": {},
   "outputs": [],
   "source": []
  }
 ],
 "metadata": {
  "kernelspec": {
   "display_name": "Python 3 (ipykernel)",
   "language": "python",
   "name": "python3"
  },
  "language_info": {
   "codemirror_mode": {
    "name": "ipython",
    "version": 3
   },
   "file_extension": ".py",
   "mimetype": "text/x-python",
   "name": "python",
   "nbconvert_exporter": "python",
   "pygments_lexer": "ipython3",
   "version": "3.8.10"
  }
 },
 "nbformat": 4,
 "nbformat_minor": 5
}
