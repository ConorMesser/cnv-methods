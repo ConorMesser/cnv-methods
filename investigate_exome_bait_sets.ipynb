{
 "cells": [
  {
   "cell_type": "code",
   "execution_count": 2,
   "id": "c3070f1d",
   "metadata": {},
   "outputs": [],
   "source": [
    "import pandas as pd\n",
    "import matplotlib.pyplot as plt\n",
    "import numpy as np"
   ]
  },
  {
   "cell_type": "code",
   "execution_count": 19,
   "id": "5a4c3e55",
   "metadata": {},
   "outputs": [],
   "source": [
    "agilent = pd.read_csv('../cnv_data/NA12878.WES.agilent_v5.hg38.binned_coverage.bed', sep='\\t', header=None, names=['chr', 'start', 'end', 'depth'], index_col=None)\n",
    "ice = pd.read_csv('../cnv_data/NA12878.WES.ice.hg38.binned_coverage.chr1.bed', sep='\\t', header=None, names=['chr', 'start', 'end','depth'])\n",
    "twist = pd.read_csv('../cnv_data/NA12878.WES.twist.hg38.binned_coverage.chr1.bed', sep='\\t', header=None, names=['chr', 'start', 'end','depth'])\n",
    "unknown = pd.read_csv('../cnv_data/NA12878.WES.unknown_v1.hg38.binned_coverage.chr1.bed', sep='\\t', header=None, names=['chr', 'start', 'end','depth'])\n"
   ]
  },
  {
   "cell_type": "code",
   "execution_count": 20,
   "id": "b1fd67b8",
   "metadata": {},
   "outputs": [],
   "source": [
    "phase1_2 = pd.read_csv('../cnv_data/NA12878.WES.phase1_2.hg38.binned_coverage.chr1.bed', sep='\\t', header=None, names=['chr', 'start', 'end','depth'])\n",
    "phase3 = pd.read_csv('../cnv_data/NA12878.WES.phase3.hg38.binned_coverage.chr1.bed', sep='\\t', header=None, names=['chr', 'start', 'end','depth'])\n",
    "\n"
   ]
  },
  {
   "cell_type": "code",
   "execution_count": 21,
   "id": "9d3ed578",
   "metadata": {},
   "outputs": [
    {
     "data": {
      "text/html": [
       "<div>\n",
       "<style scoped>\n",
       "    .dataframe tbody tr th:only-of-type {\n",
       "        vertical-align: middle;\n",
       "    }\n",
       "\n",
       "    .dataframe tbody tr th {\n",
       "        vertical-align: top;\n",
       "    }\n",
       "\n",
       "    .dataframe thead th {\n",
       "        text-align: right;\n",
       "    }\n",
       "</style>\n",
       "<table border=\"1\" class=\"dataframe\">\n",
       "  <thead>\n",
       "    <tr style=\"text-align: right;\">\n",
       "      <th></th>\n",
       "      <th>chr</th>\n",
       "      <th>start</th>\n",
       "      <th>end</th>\n",
       "      <th>depth</th>\n",
       "    </tr>\n",
       "  </thead>\n",
       "  <tbody>\n",
       "    <tr>\n",
       "      <th>0</th>\n",
       "      <td>chr1</td>\n",
       "      <td>69091</td>\n",
       "      <td>69290</td>\n",
       "      <td>4217</td>\n",
       "    </tr>\n",
       "    <tr>\n",
       "      <th>1</th>\n",
       "      <td>chr1</td>\n",
       "      <td>69291</td>\n",
       "      <td>69490</td>\n",
       "      <td>2633</td>\n",
       "    </tr>\n",
       "    <tr>\n",
       "      <th>2</th>\n",
       "      <td>chr1</td>\n",
       "      <td>69491</td>\n",
       "      <td>69690</td>\n",
       "      <td>2153</td>\n",
       "    </tr>\n",
       "    <tr>\n",
       "      <th>3</th>\n",
       "      <td>chr1</td>\n",
       "      <td>69691</td>\n",
       "      <td>70008</td>\n",
       "      <td>10410</td>\n",
       "    </tr>\n",
       "    <tr>\n",
       "      <th>4</th>\n",
       "      <td>chr1</td>\n",
       "      <td>925941</td>\n",
       "      <td>926013</td>\n",
       "      <td>364</td>\n",
       "    </tr>\n",
       "    <tr>\n",
       "      <th>...</th>\n",
       "      <td>...</td>\n",
       "      <td>...</td>\n",
       "      <td>...</td>\n",
       "      <td>...</td>\n",
       "    </tr>\n",
       "    <tr>\n",
       "      <th>18526</th>\n",
       "      <td>chr1</td>\n",
       "      <td>248917202</td>\n",
       "      <td>248917401</td>\n",
       "      <td>1342</td>\n",
       "    </tr>\n",
       "    <tr>\n",
       "      <th>18527</th>\n",
       "      <td>chr1</td>\n",
       "      <td>248917402</td>\n",
       "      <td>248917601</td>\n",
       "      <td>1308</td>\n",
       "    </tr>\n",
       "    <tr>\n",
       "      <th>18528</th>\n",
       "      <td>chr1</td>\n",
       "      <td>248917602</td>\n",
       "      <td>248917801</td>\n",
       "      <td>1072</td>\n",
       "    </tr>\n",
       "    <tr>\n",
       "      <th>18529</th>\n",
       "      <td>chr1</td>\n",
       "      <td>248917802</td>\n",
       "      <td>248918001</td>\n",
       "      <td>531</td>\n",
       "    </tr>\n",
       "    <tr>\n",
       "      <th>18530</th>\n",
       "      <td>chr1</td>\n",
       "      <td>248918002</td>\n",
       "      <td>248918363</td>\n",
       "      <td>1330</td>\n",
       "    </tr>\n",
       "  </tbody>\n",
       "</table>\n",
       "<p>17254 rows × 4 columns</p>\n",
       "</div>"
      ],
      "text/plain": [
       "        chr      start        end  depth\n",
       "0      chr1      69091      69290   4217\n",
       "1      chr1      69291      69490   2633\n",
       "2      chr1      69491      69690   2153\n",
       "3      chr1      69691      70008  10410\n",
       "4      chr1     925941     926013    364\n",
       "...     ...        ...        ...    ...\n",
       "18526  chr1  248917202  248917401   1342\n",
       "18527  chr1  248917402  248917601   1308\n",
       "18528  chr1  248917602  248917801   1072\n",
       "18529  chr1  248917802  248918001    531\n",
       "18530  chr1  248918002  248918363   1330\n",
       "\n",
       "[17254 rows x 4 columns]"
      ]
     },
     "execution_count": 21,
     "metadata": {},
     "output_type": "execute_result"
    }
   ],
   "source": [
    "phase1_2[phase1_2['depth'] > 100]"
   ]
  },
  {
   "cell_type": "code",
   "execution_count": 22,
   "id": "e162a641",
   "metadata": {},
   "outputs": [],
   "source": [
    "all_bed = {'agilent': agilent, 'ice': ice, 'twist': twist, 'unknown': unknown, 'phase1_2':phase1_2, 'phase3':phase3}\n",
    "for name, b in all_bed.items():\n",
    "    b['length'] = b['end'] - b['start']\n",
    "    b['depth_norm'] = b.apply(lambda x: np.NaN if x['length'] == 0 else x['depth'] * 76 / x['length'], axis=1)"
   ]
  },
  {
   "cell_type": "code",
   "execution_count": 36,
   "id": "7af5d01c",
   "metadata": {},
   "outputs": [
    {
     "data": {
      "text/plain": [
       "{'agilent': 232.88153672514696,\n",
       " 'ice': 360.19562028624074,\n",
       " 'twist': 361.2537876855153,\n",
       " 'unknown': 86.09078741474406,\n",
       " 'phase1_2': 403.3466733676452,\n",
       " 'phase3': 272.61227044992427}"
      ]
     },
     "execution_count": 36,
     "metadata": {},
     "output_type": "execute_result"
    }
   ],
   "source": [
    "{name: bed['depth_norm'].mean() for name, bed in all_bed.items()}"
   ]
  },
  {
   "cell_type": "code",
   "execution_count": 24,
   "id": "6e834673",
   "metadata": {},
   "outputs": [
    {
     "data": {
      "image/png": "[encoded data removed]",
      "text/plain": [
       "<Figure size 432x288 with 1 Axes>"
      ]
     },
     "metadata": {
      "needs_background": "light"
     },
     "output_type": "display_data"
    },
    {
     "data": {
      "image/png": "[encoded data removed]",
      "text/plain": [
       "<Figure size 432x288 with 1 Axes>"
      ]
     },
     "metadata": {
      "needs_background": "light"
     },
     "output_type": "display_data"
    },
    {
     "data": {
      "image/png": "[encoded data removed]",
      "text/plain": [
       "<Figure size 432x288 with 1 Axes>"
      ]
     },
     "metadata": {
      "needs_background": "light"
     },
     "output_type": "display_data"
    },
    {
     "data": {
      "image/png": "[encoded data removed]",
      "text/plain": [
       "<Figure size 432x288 with 1 Axes>"
      ]
     },
     "metadata": {
      "needs_background": "light"
     },
     "output_type": "display_data"
    },
    {
     "data": {
      "image/png": "[encoded data removed]",
      "text/plain": [
       "<Figure size 432x288 with 1 Axes>"
      ]
     },
     "metadata": {
      "needs_background": "light"
     },
     "output_type": "display_data"
    },
    {
     "data": {
      "image/png": "[encoded data removed]",
      "text/plain": [
       "<Figure size 432x288 with 1 Axes>"
      ]
     },
     "metadata": {
      "needs_background": "light"
     },
     "output_type": "display_data"
    }
   ],
   "source": [
    "for name, b in all_bed.items():\n",
    "    fig = plt.hist(b['depth_norm'], 100)\n",
    "    plt.title(f\"{name} bait set\")\n",
    "    plt.xlabel('Avg Depth per Target')\n",
    "    plt.ylabel('Counts')\n",
    "    plt.show()"
   ]
  },
  {
   "cell_type": "code",
   "execution_count": 25,
   "id": "20171143",
   "metadata": {},
   "outputs": [
    {
     "data": {
      "image/png": "[encoded data removed]",
      "text/plain": [
       "<Figure size 432x288 with 1 Axes>"
      ]
     },
     "metadata": {
      "needs_background": "light"
     },
     "output_type": "display_data"
    },
    {
     "data": {
      "image/png": "[encoded data removed]",
      "text/plain": [
       "<Figure size 432x288 with 1 Axes>"
      ]
     },
     "metadata": {
      "needs_background": "light"
     },
     "output_type": "display_data"
    },
    {
     "data": {
      "image/png": "[encoded data removed]",
      "text/plain": [
       "<Figure size 432x288 with 1 Axes>"
      ]
     },
     "metadata": {
      "needs_background": "light"
     },
     "output_type": "display_data"
    },
    {
     "data": {
      "image/png": "[encoded data removed]",
      "text/plain": [
       "<Figure size 432x288 with 1 Axes>"
      ]
     },
     "metadata": {
      "needs_background": "light"
     },
     "output_type": "display_data"
    },
    {
     "data": {
      "image/png": "[encoded data removed]",
      "text/plain": [
       "<Figure size 432x288 with 1 Axes>"
      ]
     },
     "metadata": {
      "needs_background": "light"
     },
     "output_type": "display_data"
    },
    {
     "data": {
      "image/png": "[encoded data removed]",
      "text/plain": [
       "<Figure size 432x288 with 1 Axes>"
      ]
     },
     "metadata": {
      "needs_background": "light"
     },
     "output_type": "display_data"
    }
   ],
   "source": [
    "for name, b in all_bed.items():\n",
    "    fig = plt.hist(b[b['depth_norm'] < 1500]['depth_norm'], 50)\n",
    "    plt.title(f\"{name} bait set\")\n",
    "    plt.xlabel('Avg Depth per Target')\n",
    "    plt.ylabel('Counts')\n",
    "    plt.show()"
   ]
  },
  {
   "cell_type": "code",
   "execution_count": 45,
   "id": "c0e67102",
   "metadata": {},
   "outputs": [
    {
     "data": {
      "text/plain": [
       "(0.0, 1500.0)"
      ]
     },
     "execution_count": 45,
     "metadata": {},
     "output_type": "execute_result"
    },
    {
     "data": {
      "image/png": "[encoded data removed]",
      "text/plain": [
       "<Figure size 432x288 with 1 Axes>"
      ]
     },
     "metadata": {
      "needs_background": "light"
     },
     "output_type": "display_data"
    }
   ],
   "source": [
    "depth_list = []\n",
    "for name, b in all_bed.items():\n",
    "    depth_list.append(list(b['depth_norm']))\n",
    "\n",
    "df = pd.DataFrame(data = depth_list, index = all_bed.keys())\n",
    "df.transpose().boxplot()\n",
    "ax = plt.gca()\n",
    "ax.set_ylim([0,1500])"
   ]
  },
  {
   "cell_type": "code",
   "execution_count": 41,
   "id": "675593ec",
   "metadata": {},
   "outputs": [
    {
     "name": "stdout",
     "output_type": "stream",
     "text": [
      "agilent: 1273\n",
      "ice: 778\n",
      "twist: 862\n",
      "unknown: 6840\n",
      "phase1_2: 158\n",
      "phase3: 194\n"
     ]
    }
   ],
   "source": [
    "for name, b in all_bed.items():\n",
    "    print(f'{name}: {len(b[b[\"depth_norm\"] < 5])}')"
   ]
  },
  {
   "cell_type": "markdown",
   "id": "7ba570ec",
   "metadata": {},
   "source": [
    "### It seems that the Phase 1/2 consensus target file matches our WES file the best"
   ]
  },
  {
   "cell_type": "markdown",
   "id": "f36a2e73",
   "metadata": {},
   "source": [
    "## Now investigate bam vs. Solexa/Pond bams"
   ]
  },
  {
   "cell_type": "code",
   "execution_count": 3,
   "id": "de941c45",
   "metadata": {},
   "outputs": [],
   "source": [
    "full_bam_snp_depths = pd.read_csv('../cnv_data/NA12878_WES.vcf.depths.bed', sep='\\t')\n",
    "solexa_bam_snp_depths = pd.read_csv('../cnv_data/NA12878_Solexa_WES.vcf.depths.bed', sep='\\t')\n",
    "pond_bam_snp_depths = pd.read_csv('../cnv_data/NA12878_Pond_WES.vcf.depths.bed', sep='\\t')\n"
   ]
  },
  {
   "cell_type": "code",
   "execution_count": 6,
   "id": "ba3351f8",
   "metadata": {},
   "outputs": [
    {
     "name": "stdout",
     "output_type": "stream",
     "text": [
      "Help on function merge in module pandas.core.frame:\n",
      "\n",
      "merge(self, right: 'FrameOrSeriesUnion', how: 'str' = 'inner', on: 'IndexLabel | None' = None, left_on: 'IndexLabel | None' = None, right_on: 'IndexLabel | None' = None, left_index: 'bool' = False, right_index: 'bool' = False, sort: 'bool' = False, suffixes: 'Suffixes' = ('_x', '_y'), copy: 'bool' = True, indicator: 'bool' = False, validate: 'str | None' = None) -> 'DataFrame'\n",
      "    Merge DataFrame or named Series objects with a database-style join.\n",
      "    \n",
      "    A named Series object is treated as a DataFrame with a single named column.\n",
      "    \n",
      "    The join is done on columns or indexes. If joining columns on\n",
      "    columns, the DataFrame indexes *will be ignored*. Otherwise if joining indexes\n",
      "    on indexes or indexes on a column or columns, the index will be passed on.\n",
      "    When performing a cross merge, no column specifications to merge on are\n",
      "    allowed.\n",
      "    \n",
      "    Parameters\n",
      "    ----------\n",
      "    right : DataFrame or named Series\n",
      "        Object to merge with.\n",
      "    how : {'left', 'right', 'outer', 'inner', 'cross'}, default 'inner'\n",
      "        Type of merge to be performed.\n",
      "    \n",
      "        * left: use only keys from left frame, similar to a SQL left outer join;\n",
      "          preserve key order.\n",
      "        * right: use only keys from right frame, similar to a SQL right outer join;\n",
      "          preserve key order.\n",
      "        * outer: use union of keys from both frames, similar to a SQL full outer\n",
      "          join; sort keys lexicographically.\n",
      "        * inner: use intersection of keys from both frames, similar to a SQL inner\n",
      "          join; preserve the order of the left keys.\n",
      "        * cross: creates the cartesian product from both frames, preserves the order\n",
      "          of the left keys.\n",
      "    \n",
      "          .. versionadded:: 1.2.0\n",
      "    \n",
      "    on : label or list\n",
      "        Column or index level names to join on. These must be found in both\n",
      "        DataFrames. If `on` is None and not merging on indexes then this defaults\n",
      "        to the intersection of the columns in both DataFrames.\n",
      "    left_on : label or list, or array-like\n",
      "        Column or index level names to join on in the left DataFrame. Can also\n",
      "        be an array or list of arrays of the length of the left DataFrame.\n",
      "        These arrays are treated as if they are columns.\n",
      "    right_on : label or list, or array-like\n",
      "        Column or index level names to join on in the right DataFrame. Can also\n",
      "        be an array or list of arrays of the length of the right DataFrame.\n",
      "        These arrays are treated as if they are columns.\n",
      "    left_index : bool, default False\n",
      "        Use the index from the left DataFrame as the join key(s). If it is a\n",
      "        MultiIndex, the number of keys in the other DataFrame (either the index\n",
      "        or a number of columns) must match the number of levels.\n",
      "    right_index : bool, default False\n",
      "        Use the index from the right DataFrame as the join key. Same caveats as\n",
      "        left_index.\n",
      "    sort : bool, default False\n",
      "        Sort the join keys lexicographically in the result DataFrame. If False,\n",
      "        the order of the join keys depends on the join type (how keyword).\n",
      "    suffixes : list-like, default is (\"_x\", \"_y\")\n",
      "        A length-2 sequence where each element is optionally a string\n",
      "        indicating the suffix to add to overlapping column names in\n",
      "        `left` and `right` respectively. Pass a value of `None` instead\n",
      "        of a string to indicate that the column name from `left` or\n",
      "        `right` should be left as-is, with no suffix. At least one of the\n",
      "        values must not be None.\n",
      "    copy : bool, default True\n",
      "        If False, avoid copy if possible.\n",
      "    indicator : bool or str, default False\n",
      "        If True, adds a column to the output DataFrame called \"_merge\" with\n",
      "        information on the source of each row. The column can be given a different\n",
      "        name by providing a string argument. The column will have a Categorical\n",
      "        type with the value of \"left_only\" for observations whose merge key only\n",
      "        appears in the left DataFrame, \"right_only\" for observations\n",
      "        whose merge key only appears in the right DataFrame, and \"both\"\n",
      "        if the observation's merge key is found in both DataFrames.\n",
      "    \n",
      "    validate : str, optional\n",
      "        If specified, checks if merge is of specified type.\n",
      "    \n",
      "        * \"one_to_one\" or \"1:1\": check if merge keys are unique in both\n",
      "          left and right datasets.\n",
      "        * \"one_to_many\" or \"1:m\": check if merge keys are unique in left\n",
      "          dataset.\n",
      "        * \"many_to_one\" or \"m:1\": check if merge keys are unique in right\n",
      "          dataset.\n",
      "        * \"many_to_many\" or \"m:m\": allowed, but does not result in checks.\n",
      "    \n",
      "    Returns\n",
      "    -------\n",
      "    DataFrame\n",
      "        A DataFrame of the two merged objects.\n",
      "    \n",
      "    See Also\n",
      "    --------\n",
      "    merge_ordered : Merge with optional filling/interpolation.\n",
      "    merge_asof : Merge on nearest keys.\n",
      "    DataFrame.join : Similar method using indices.\n",
      "    \n",
      "    Notes\n",
      "    -----\n",
      "    Support for specifying index levels as the `on`, `left_on`, and\n",
      "    `right_on` parameters was added in version 0.23.0\n",
      "    Support for merging named Series objects was added in version 0.24.0\n",
      "    \n",
      "    Examples\n",
      "    --------\n",
      "    >>> df1 = pd.DataFrame({'lkey': ['foo', 'bar', 'baz', 'foo'],\n",
      "    ...                     'value': [1, 2, 3, 5]})\n",
      "    >>> df2 = pd.DataFrame({'rkey': ['foo', 'bar', 'baz', 'foo'],\n",
      "    ...                     'value': [5, 6, 7, 8]})\n",
      "    >>> df1\n",
      "        lkey value\n",
      "    0   foo      1\n",
      "    1   bar      2\n",
      "    2   baz      3\n",
      "    3   foo      5\n",
      "    >>> df2\n",
      "        rkey value\n",
      "    0   foo      5\n",
      "    1   bar      6\n",
      "    2   baz      7\n",
      "    3   foo      8\n",
      "    \n",
      "    Merge df1 and df2 on the lkey and rkey columns. The value columns have\n",
      "    the default suffixes, _x and _y, appended.\n",
      "    \n",
      "    >>> df1.merge(df2, left_on='lkey', right_on='rkey')\n",
      "      lkey  value_x rkey  value_y\n",
      "    0  foo        1  foo        5\n",
      "    1  foo        1  foo        8\n",
      "    2  foo        5  foo        5\n",
      "    3  foo        5  foo        8\n",
      "    4  bar        2  bar        6\n",
      "    5  baz        3  baz        7\n",
      "    \n",
      "    Merge DataFrames df1 and df2 with specified left and right suffixes\n",
      "    appended to any overlapping columns.\n",
      "    \n",
      "    >>> df1.merge(df2, left_on='lkey', right_on='rkey',\n",
      "    ...           suffixes=('_left', '_right'))\n",
      "      lkey  value_left rkey  value_right\n",
      "    0  foo           1  foo            5\n",
      "    1  foo           1  foo            8\n",
      "    2  foo           5  foo            5\n",
      "    3  foo           5  foo            8\n",
      "    4  bar           2  bar            6\n",
      "    5  baz           3  baz            7\n",
      "    \n",
      "    Merge DataFrames df1 and df2, but raise an exception if the DataFrames have\n",
      "    any overlapping columns.\n",
      "    \n",
      "    >>> df1.merge(df2, left_on='lkey', right_on='rkey', suffixes=(False, False))\n",
      "    Traceback (most recent call last):\n",
      "    ...\n",
      "    ValueError: columns overlap but no suffix specified:\n",
      "        Index(['value'], dtype='object')\n",
      "    \n",
      "    >>> df1 = pd.DataFrame({'a': ['foo', 'bar'], 'b': [1, 2]})\n",
      "    >>> df2 = pd.DataFrame({'a': ['foo', 'baz'], 'c': [3, 4]})\n",
      "    >>> df1\n",
      "          a  b\n",
      "    0   foo  1\n",
      "    1   bar  2\n",
      "    >>> df2\n",
      "          a  c\n",
      "    0   foo  3\n",
      "    1   baz  4\n",
      "    \n",
      "    >>> df1.merge(df2, how='inner', on='a')\n",
      "          a  b  c\n",
      "    0   foo  1  3\n",
      "    \n",
      "    >>> df1.merge(df2, how='left', on='a')\n",
      "          a  b  c\n",
      "    0   foo  1  3.0\n",
      "    1   bar  2  NaN\n",
      "    \n",
      "    >>> df1 = pd.DataFrame({'left': ['foo', 'bar']})\n",
      "    >>> df2 = pd.DataFrame({'right': [7, 8]})\n",
      "    >>> df1\n",
      "        left\n",
      "    0   foo\n",
      "    1   bar\n",
      "    >>> df2\n",
      "        right\n",
      "    0   7\n",
      "    1   8\n",
      "    \n",
      "    >>> df1.merge(df2, how='cross')\n",
      "       left  right\n",
      "    0   foo      7\n",
      "    1   foo      8\n",
      "    2   bar      7\n",
      "    3   bar      8\n",
      "\n"
     ]
    }
   ],
   "source": [
    "help(pd.DataFrame.merge)"
   ]
  },
  {
   "cell_type": "code",
   "execution_count": 8,
   "id": "215802dc",
   "metadata": {},
   "outputs": [],
   "source": [
    "combo_depths = full_bam_snp_depths.merge(solexa_bam_snp_depths, on=['chr', 'pos'], suffixes=['_full', '_solexa']).merge(pond_bam_snp_depths, on=['chr', 'pos']).rename(columns={'depth': 'depth_pond'})"
   ]
  },
  {
   "cell_type": "code",
   "execution_count": 10,
   "id": "b4f1ebc9",
   "metadata": {},
   "outputs": [],
   "source": [
    "combo_depths.set_index(['chr', 'pos'], inplace=True)"
   ]
  },
  {
   "cell_type": "code",
   "execution_count": 18,
   "id": "541e64a9",
   "metadata": {},
   "outputs": [],
   "source": [
    "combo_depths['depth_combo'] = combo_depths['depth_solexa'] + combo_depths['depth_pond']"
   ]
  },
  {
   "cell_type": "code",
   "execution_count": 66,
   "id": "0a09ec15",
   "metadata": {},
   "outputs": [
    {
     "data": {
      "text/html": [
       "<div>\n",
       "<style scoped>\n",
       "    .dataframe tbody tr th:only-of-type {\n",
       "        vertical-align: middle;\n",
       "    }\n",
       "\n",
       "    .dataframe tbody tr th {\n",
       "        vertical-align: top;\n",
       "    }\n",
       "\n",
       "    .dataframe thead th {\n",
       "        text-align: right;\n",
       "    }\n",
       "</style>\n",
       "<table border=\"1\" class=\"dataframe\">\n",
       "  <thead>\n",
       "    <tr style=\"text-align: right;\">\n",
       "      <th></th>\n",
       "      <th></th>\n",
       "      <th>depth_full</th>\n",
       "      <th>depth_solexa</th>\n",
       "      <th>depth_pond</th>\n",
       "      <th>depth_combo</th>\n",
       "    </tr>\n",
       "    <tr>\n",
       "      <th>chr</th>\n",
       "      <th>pos</th>\n",
       "      <th></th>\n",
       "      <th></th>\n",
       "      <th></th>\n",
       "      <th></th>\n",
       "    </tr>\n",
       "  </thead>\n",
       "  <tbody>\n",
       "    <tr>\n",
       "      <th rowspan=\"5\" valign=\"top\">chr1</th>\n",
       "      <th>790933</th>\n",
       "      <td>17</td>\n",
       "      <td>20</td>\n",
       "      <td>1</td>\n",
       "      <td>21</td>\n",
       "    </tr>\n",
       "    <tr>\n",
       "      <th>866563</th>\n",
       "      <td>9</td>\n",
       "      <td>12</td>\n",
       "      <td>1</td>\n",
       "      <td>13</td>\n",
       "    </tr>\n",
       "    <tr>\n",
       "      <th>873251</th>\n",
       "      <td>11</td>\n",
       "      <td>7</td>\n",
       "      <td>9</td>\n",
       "      <td>16</td>\n",
       "    </tr>\n",
       "    <tr>\n",
       "      <th>873542</th>\n",
       "      <td>156</td>\n",
       "      <td>131</td>\n",
       "      <td>111</td>\n",
       "      <td>242</td>\n",
       "    </tr>\n",
       "    <tr>\n",
       "      <th>873548</th>\n",
       "      <td>159</td>\n",
       "      <td>129</td>\n",
       "      <td>114</td>\n",
       "      <td>243</td>\n",
       "    </tr>\n",
       "    <tr>\n",
       "      <th>...</th>\n",
       "      <th>...</th>\n",
       "      <td>...</td>\n",
       "      <td>...</td>\n",
       "      <td>...</td>\n",
       "      <td>...</td>\n",
       "    </tr>\n",
       "    <tr>\n",
       "      <th rowspan=\"5\" valign=\"top\">chrX</th>\n",
       "      <th>155292770</th>\n",
       "      <td>17</td>\n",
       "      <td>20</td>\n",
       "      <td>9</td>\n",
       "      <td>29</td>\n",
       "    </tr>\n",
       "    <tr>\n",
       "      <th>155491696</th>\n",
       "      <td>65</td>\n",
       "      <td>42</td>\n",
       "      <td>46</td>\n",
       "      <td>88</td>\n",
       "    </tr>\n",
       "    <tr>\n",
       "      <th>155524242</th>\n",
       "      <td>12</td>\n",
       "      <td>11</td>\n",
       "      <td>6</td>\n",
       "      <td>17</td>\n",
       "    </tr>\n",
       "    <tr>\n",
       "      <th>155545002</th>\n",
       "      <td>22</td>\n",
       "      <td>32</td>\n",
       "      <td>8</td>\n",
       "      <td>40</td>\n",
       "    </tr>\n",
       "    <tr>\n",
       "      <th>155545046</th>\n",
       "      <td>52</td>\n",
       "      <td>60</td>\n",
       "      <td>31</td>\n",
       "      <td>91</td>\n",
       "    </tr>\n",
       "  </tbody>\n",
       "</table>\n",
       "<p>90625 rows × 4 columns</p>\n",
       "</div>"
      ],
      "text/plain": [
       "                depth_full  depth_solexa  depth_pond  depth_combo\n",
       "chr  pos                                                         \n",
       "chr1 790933             17            20           1           21\n",
       "     866563              9            12           1           13\n",
       "     873251             11             7           9           16\n",
       "     873542            156           131         111          242\n",
       "     873548            159           129         114          243\n",
       "...                    ...           ...         ...          ...\n",
       "chrX 155292770          17            20           9           29\n",
       "     155491696          65            42          46           88\n",
       "     155524242          12            11           6           17\n",
       "     155545002          22            32           8           40\n",
       "     155545046          52            60          31           91\n",
       "\n",
       "[90625 rows x 4 columns]"
      ]
     },
     "execution_count": 66,
     "metadata": {},
     "output_type": "execute_result"
    }
   ],
   "source": [
    "combo_depths[(combo_depths['depth_combo'] - combo_depths['depth_full']) > 3]"
   ]
  },
  {
   "cell_type": "code",
   "execution_count": 54,
   "id": "4bd2dad2",
   "metadata": {},
   "outputs": [
    {
     "data": {
      "image/png": "[encoded data removed]",
      "text/plain": [
       "<Figure size 432x288 with 1 Axes>"
      ]
     },
     "metadata": {
      "needs_background": "light"
     },
     "output_type": "display_data"
    }
   ],
   "source": [
    "ax = (combo_depths['depth_combo'] - combo_depths['depth_full']).value_counts().sort_index().plot.bar(log=True)\n"
   ]
  },
  {
   "cell_type": "code",
   "execution_count": 60,
   "id": "88b1b38c",
   "metadata": {},
   "outputs": [
    {
     "data": {
      "text/plain": [
       "Text(0, 0.5, 'Number of SNVs')"
      ]
     },
     "execution_count": 60,
     "metadata": {},
     "output_type": "execute_result"
    },
    {
     "data": {
      "image/png": "[encoded data removed]",
      "text/plain": [
       "<Figure size 432x288 with 1 Axes>"
      ]
     },
     "metadata": {
      "needs_background": "light"
     },
     "output_type": "display_data"
    }
   ],
   "source": [
    "ax = (combo_depths['depth_combo'] - combo_depths['depth_full']).value_counts().sort_index().iloc[0:50].plot.bar(log=True)\n",
    "ax.set_xlabel('Sum minus Original')\n",
    "ax.set_ylabel('Number of SNVs')"
   ]
  },
  {
   "cell_type": "code",
   "execution_count": 32,
   "id": "2441b398",
   "metadata": {},
   "outputs": [
    {
     "data": {
      "text/html": [
       "<div>\n",
       "<style scoped>\n",
       "    .dataframe tbody tr th:only-of-type {\n",
       "        vertical-align: middle;\n",
       "    }\n",
       "\n",
       "    .dataframe tbody tr th {\n",
       "        vertical-align: top;\n",
       "    }\n",
       "\n",
       "    .dataframe thead th {\n",
       "        text-align: right;\n",
       "    }\n",
       "</style>\n",
       "<table border=\"1\" class=\"dataframe\">\n",
       "  <thead>\n",
       "    <tr style=\"text-align: right;\">\n",
       "      <th></th>\n",
       "      <th>depth_full</th>\n",
       "      <th>depth_solexa</th>\n",
       "      <th>depth_pond</th>\n",
       "      <th>depth_combo</th>\n",
       "    </tr>\n",
       "  </thead>\n",
       "  <tbody>\n",
       "    <tr>\n",
       "      <th>count</th>\n",
       "      <td>91543.000000</td>\n",
       "      <td>91543.000000</td>\n",
       "      <td>91543.000000</td>\n",
       "      <td>91543.000000</td>\n",
       "    </tr>\n",
       "    <tr>\n",
       "      <th>mean</th>\n",
       "      <td>63.095780</td>\n",
       "      <td>56.659810</td>\n",
       "      <td>40.260664</td>\n",
       "      <td>96.920475</td>\n",
       "    </tr>\n",
       "    <tr>\n",
       "      <th>std</th>\n",
       "      <td>75.001582</td>\n",
       "      <td>81.322035</td>\n",
       "      <td>51.693131</td>\n",
       "      <td>123.516204</td>\n",
       "    </tr>\n",
       "    <tr>\n",
       "      <th>min</th>\n",
       "      <td>11.000000</td>\n",
       "      <td>0.000000</td>\n",
       "      <td>0.000000</td>\n",
       "      <td>9.000000</td>\n",
       "    </tr>\n",
       "    <tr>\n",
       "      <th>25%</th>\n",
       "      <td>20.000000</td>\n",
       "      <td>17.000000</td>\n",
       "      <td>10.000000</td>\n",
       "      <td>28.000000</td>\n",
       "    </tr>\n",
       "    <tr>\n",
       "      <th>50%</th>\n",
       "      <td>41.000000</td>\n",
       "      <td>35.000000</td>\n",
       "      <td>24.000000</td>\n",
       "      <td>60.000000</td>\n",
       "    </tr>\n",
       "    <tr>\n",
       "      <th>75%</th>\n",
       "      <td>82.000000</td>\n",
       "      <td>71.000000</td>\n",
       "      <td>53.000000</td>\n",
       "      <td>125.000000</td>\n",
       "    </tr>\n",
       "    <tr>\n",
       "      <th>max</th>\n",
       "      <td>4832.000000</td>\n",
       "      <td>7218.000000</td>\n",
       "      <td>1850.000000</td>\n",
       "      <td>7282.000000</td>\n",
       "    </tr>\n",
       "  </tbody>\n",
       "</table>\n",
       "</div>"
      ],
      "text/plain": [
       "         depth_full  depth_solexa    depth_pond   depth_combo\n",
       "count  91543.000000  91543.000000  91543.000000  91543.000000\n",
       "mean      63.095780     56.659810     40.260664     96.920475\n",
       "std       75.001582     81.322035     51.693131    123.516204\n",
       "min       11.000000      0.000000      0.000000      9.000000\n",
       "25%       20.000000     17.000000     10.000000     28.000000\n",
       "50%       41.000000     35.000000     24.000000     60.000000\n",
       "75%       82.000000     71.000000     53.000000    125.000000\n",
       "max     4832.000000   7218.000000   1850.000000   7282.000000"
      ]
     },
     "execution_count": 32,
     "metadata": {},
     "output_type": "execute_result"
    }
   ],
   "source": [
    "combo_depths[combo_depths['depth_full'] > 10].describe()"
   ]
  },
  {
   "cell_type": "code",
   "execution_count": 24,
   "id": "2b9ca871",
   "metadata": {},
   "outputs": [
    {
     "name": "stdout",
     "output_type": "stream",
     "text": [
      "335417841\r\n"
     ]
    }
   ],
   "source": [
    "! samtools view -c ../cnv_data/NA12878.alt_bwamem_GRCh38DH.20150826.CEU.exome.bam"
   ]
  },
  {
   "cell_type": "code",
   "execution_count": null,
   "id": "227e18ff",
   "metadata": {},
   "outputs": [],
   "source": [
    "! samtools view -c ../cnv_data/NA12878.alt_bwamem_GRCh38DH.20150826.CEU.exome_Pond.bam  # 91052397"
   ]
  },
  {
   "cell_type": "code",
   "execution_count": null,
   "id": "41616b19",
   "metadata": {},
   "outputs": [],
   "source": [
    "! samtools view -c ../cnv_data/NA12878.alt_bwamem_GRCh38DH.20150826.CEU.exome_Solexa-51024.bam  # 244365444"
   ]
  },
  {
   "cell_type": "code",
   "execution_count": 30,
   "id": "456a7eed",
   "metadata": {},
   "outputs": [
    {
     "data": {
      "text/plain": [
       "335417841"
      ]
     },
     "execution_count": 30,
     "metadata": {},
     "output_type": "execute_result"
    }
   ],
   "source": [
    "244365444 + 91052397"
   ]
  },
  {
   "cell_type": "markdown",
   "id": "3c2d36a6",
   "metadata": {},
   "source": [
    "The two split bams (Pond and Solexa) do indeed have the correct number of reads, summing to the count for the whole bam. Why then are there certain loci that have a higher read depth? Because I used the cram to get the depths the first time. There is a bug where the cram reports different (generally lower) read depths. Not sure why, but the filtering must be different. I am re-running on the bam, and that should be totally concordant with the sum of Pond + Solexa."
   ]
  },
  {
   "cell_type": "code",
   "execution_count": null,
   "id": "a023766b",
   "metadata": {},
   "outputs": [],
   "source": []
  }
 ],
 "metadata": {
  "kernelspec": {
   "display_name": "Python 3 (ipykernel)",
   "language": "python",
   "name": "python3"
  },
  "language_info": {
   "codemirror_mode": {
    "name": "ipython",
    "version": 3
   },
   "file_extension": ".py",
   "mimetype": "text/x-python",
   "name": "python",
   "nbconvert_exporter": "python",
   "pygments_lexer": "ipython3",
   "version": "3.8.10"
  }
 },
 "nbformat": 4,
 "nbformat_minor": 5
}
