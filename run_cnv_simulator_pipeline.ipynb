{
 "cells": [
  {
   "cell_type": "code",
   "execution_count": 86,
   "id": "452fb96e",
   "metadata": {},
   "outputs": [],
   "source": [
    "import pandas as pd\n",
    "import numpy as np\n",
    "import matplotlib.pyplot as plt\n",
    "import swifter\n",
    "\n",
    "from cnv_profile import CNV_Profile\n",
    "from plot_cnv_profile import plot_acr_static"
   ]
  },
  {
   "cell_type": "code",
   "execution_count": 88,
   "id": "61471763",
   "metadata": {},
   "outputs": [],
   "source": [
    "import importlib\n",
    "import cnv_profile\n",
    "importlib.reload(cnv_profile)\n",
    "from cnv_profile import CNV_Profile"
   ]
  },
  {
   "cell_type": "code",
   "execution_count": 89,
   "id": "dbd6f90d",
   "metadata": {},
   "outputs": [],
   "source": [
    "default_profile = CNV_Profile(num_subclones=3, csize='../cnv_data/genome.hg38.txt', cent_loc=centromere_spec_df.to_dict()['avg'])\n",
    "default_profile.add_cnv_events(arm_num=10, focal_num=100, p_whole=0.6, ratio_clonal=0.5,\n",
    "                       median_focal_length=1.8 * 10**6)\n",
    "default_profile.add_arm(2, 1, chrom='1')\n",
    "default_profile.calculate_cnv_profile()\n",
    "default_profile.calculate_df_profiles()"
   ]
  },
  {
   "cell_type": "code",
   "execution_count": 90,
   "id": "a976d061",
   "metadata": {},
   "outputs": [
    {
     "data": {
      "image/png": "[encoded data removed]",
      "text/plain": [
       "<Figure size 432x288 with 1 Axes>"
      ]
     },
     "metadata": {
      "needs_background": "light"
     },
     "output_type": "display_data"
    }
   ],
   "source": [
    "import plot_cnv_profile\n",
    "import importlib\n",
    "importlib.reload(plot_cnv_profile)\n",
    "from plot_cnv_profile import plot_acr_static\n",
    "\n",
    "fig, ax = plt.subplots()\n",
    "plot_acr_static(default_profile.cnv_profile_df, ax, default_profile.csize, segment_colors='difference')\n"
   ]
  },
  {
   "cell_type": "code",
   "execution_count": 101,
   "id": "5af0cd0e",
   "metadata": {},
   "outputs": [],
   "source": [
    "# Generate test binned coverage profile (for WGS)\n",
    "\n",
    "test_binned_coverage = pd.read_csv('../cnv_data/1Mb.genome_bins.hg38.bed', sep='\\t', header=None, names=['chrom', 'start_pos', 'end_pos'])\n",
    "\n",
    "dispersion_norm = np.random.normal(0, 10, test_binned_coverage.shape[0])\n",
    "binned_coverage = 30 * (test_binned_coverage['end_pos'] - test_binned_coverage['start_pos'])\n",
    "# this_chr_coverage = np.asarray([np.random.poisson(cov + np.exp(disp)) for cov, disp in\n",
    "#                                zip(binned_coverage, dispersion_norm)])  # would need to calculate sum of binned log NP \n",
    "this_chr_coverage = np.random.poisson(binned_coverage)\n",
    "test_binned_coverage['cov'] = this_chr_coverage\n",
    "test_binned_coverage['chrom'] = test_binned_coverage['chrom'].apply(lambda x: x[3:])\n",
    "test_binned_coverage.to_csv('./test/simulation/binned_coverage.test', sep='\\t', index=False)"
   ]
  },
  {
   "cell_type": "code",
   "execution_count": 102,
   "id": "8bbc255f",
   "metadata": {
    "scrolled": true
   },
   "outputs": [],
   "source": [
    "# SAVE COVERAGE FILE\n",
    "\n",
    "default_profile.save_coverage_file('./test/simulation/test_coverage.txt', 0.7, './test/simulation/binned_coverage.test') #'../HapASeg/simulation/NA12878/VCF/binned_coverage.bed')\n"
   ]
  },
  {
   "cell_type": "code",
   "execution_count": 107,
   "id": "8078d534",
   "metadata": {},
   "outputs": [],
   "source": [
    "# Generate test VCF file with depth\n",
    "\n",
    "test_vcf = pd.read_csv('../HapASeg/simulation/NA12878/VCF/NA12878.vcf', sep='\\t', comment='#', header=None, \n",
    "                     names=['CHROM','POS','ID','REF','ALT','QUAL','FILTER','INFO','FORMAT','NA12878'])\n",
    "test_vcf = test_vcf[['CHROM', 'POS']].rename(columns={'CHROM': 'chr', 'POS': 'pos'})\n",
    "\n",
    "dispersion_norm = np.random.normal(0, 2, test_vcf.shape[0])\n",
    "this_chr_coverage = np.asarray([np.random.poisson(30 + np.exp(disp)) for disp in dispersion_norm])\n",
    "test_vcf['depth'] = this_chr_coverage\n",
    "test_vcf['chr'] = test_vcf['chr'].apply(lambda x: x[3:])\n",
    "test_vcf.to_csv('./test/simulation/test_hets.txt', sep='\\t', index=False)"
   ]
  },
  {
   "cell_type": "code",
   "execution_count": 108,
   "id": "2e2ae35e",
   "metadata": {
    "scrolled": true
   },
   "outputs": [],
   "source": [
    "# SAVE HETS FILE\n",
    "default_profile.save_hets_file('./test/simulation/test_hets.counts.txt', '../HapASeg/simulation/NA12878/VCF/NA12878.vcf', './test/simulation/test_hets.txt', 0.7)\n"
   ]
  },
  {
   "cell_type": "code",
   "execution_count": 110,
   "id": "2fcfe1d9",
   "metadata": {},
   "outputs": [
    {
     "name": "stderr",
     "output_type": "stream",
     "text": [
      "/home/cmesser/.local/lib/python3.8/site-packages/IPython/core/interactiveshell.py:3457: DtypeWarning: Columns (0) have mixed types.Specify dtype option on import or set low_memory=False.\n",
      "  exec(code_obj, self.user_global_ns, self.user_ns)\n"
     ]
    },
    {
     "data": {
      "text/html": [
       "<div>\n",
       "<style scoped>\n",
       "    .dataframe tbody tr th:only-of-type {\n",
       "        vertical-align: middle;\n",
       "    }\n",
       "\n",
       "    .dataframe tbody tr th {\n",
       "        vertical-align: top;\n",
       "    }\n",
       "\n",
       "    .dataframe thead th {\n",
       "        text-align: right;\n",
       "    }\n",
       "</style>\n",
       "<table border=\"1\" class=\"dataframe\">\n",
       "  <thead>\n",
       "    <tr style=\"text-align: right;\">\n",
       "      <th></th>\n",
       "      <th>CONTIG</th>\n",
       "      <th>POSITION</th>\n",
       "      <th>REF_COUNT</th>\n",
       "      <th>ALT_COUNT</th>\n",
       "    </tr>\n",
       "  </thead>\n",
       "  <tbody>\n",
       "    <tr>\n",
       "      <th>2</th>\n",
       "      <td>1</td>\n",
       "      <td>740738</td>\n",
       "      <td>14</td>\n",
       "      <td>12</td>\n",
       "    </tr>\n",
       "    <tr>\n",
       "      <th>6</th>\n",
       "      <td>1</td>\n",
       "      <td>770502</td>\n",
       "      <td>20</td>\n",
       "      <td>12</td>\n",
       "    </tr>\n",
       "    <tr>\n",
       "      <th>20</th>\n",
       "      <td>1</td>\n",
       "      <td>789680</td>\n",
       "      <td>12</td>\n",
       "      <td>10</td>\n",
       "    </tr>\n",
       "    <tr>\n",
       "      <th>22</th>\n",
       "      <td>1</td>\n",
       "      <td>792149</td>\n",
       "      <td>11</td>\n",
       "      <td>18</td>\n",
       "    </tr>\n",
       "    <tr>\n",
       "      <th>26</th>\n",
       "      <td>1</td>\n",
       "      <td>797392</td>\n",
       "      <td>16</td>\n",
       "      <td>19</td>\n",
       "    </tr>\n",
       "    <tr>\n",
       "      <th>...</th>\n",
       "      <td>...</td>\n",
       "      <td>...</td>\n",
       "      <td>...</td>\n",
       "      <td>...</td>\n",
       "    </tr>\n",
       "    <tr>\n",
       "      <th>4167805</th>\n",
       "      <td>X</td>\n",
       "      <td>155443920</td>\n",
       "      <td>11</td>\n",
       "      <td>8</td>\n",
       "    </tr>\n",
       "    <tr>\n",
       "      <th>4167834</th>\n",
       "      <td>X</td>\n",
       "      <td>155522299</td>\n",
       "      <td>21</td>\n",
       "      <td>15</td>\n",
       "    </tr>\n",
       "    <tr>\n",
       "      <th>4167846</th>\n",
       "      <td>X</td>\n",
       "      <td>155532668</td>\n",
       "      <td>14</td>\n",
       "      <td>12</td>\n",
       "    </tr>\n",
       "    <tr>\n",
       "      <th>4167885</th>\n",
       "      <td>X</td>\n",
       "      <td>155554981</td>\n",
       "      <td>13</td>\n",
       "      <td>10</td>\n",
       "    </tr>\n",
       "    <tr>\n",
       "      <th>4167901</th>\n",
       "      <td>X</td>\n",
       "      <td>155558976</td>\n",
       "      <td>11</td>\n",
       "      <td>20</td>\n",
       "    </tr>\n",
       "  </tbody>\n",
       "</table>\n",
       "<p>2532050 rows × 4 columns</p>\n",
       "</div>"
      ],
      "text/plain": [
       "        CONTIG   POSITION  REF_COUNT  ALT_COUNT\n",
       "2            1     740738         14         12\n",
       "6            1     770502         20         12\n",
       "20           1     789680         12         10\n",
       "22           1     792149         11         18\n",
       "26           1     797392         16         19\n",
       "...        ...        ...        ...        ...\n",
       "4167805      X  155443920         11          8\n",
       "4167834      X  155522299         21         15\n",
       "4167846      X  155532668         14         12\n",
       "4167885      X  155554981         13         10\n",
       "4167901      X  155558976         11         20\n",
       "\n",
       "[2532050 rows x 4 columns]"
      ]
     },
     "execution_count": 110,
     "metadata": {},
     "output_type": "execute_result"
    }
   ],
   "source": [
    "test_hets_file = pd.read_csv('./test/simulation/test_hets.counts.txt', sep='\\t')\n",
    "test_hets_file[(test_hets_file['REF_COUNT'] > 0) & (test_hets_file['ALT_COUNT'] > 0)]"
   ]
  },
  {
   "cell_type": "code",
   "execution_count": null,
   "id": "6e766a16",
   "metadata": {},
   "outputs": [],
   "source": []
  },
  {
   "cell_type": "markdown",
   "id": "2688f1fa",
   "metadata": {},
   "source": [
    "## Get cytobands"
   ]
  },
  {
   "cell_type": "code",
   "execution_count": 16,
   "id": "5f4e3a06",
   "metadata": {},
   "outputs": [],
   "source": [
    "import sys\n",
    "sys.path.append('/home/cmesser/HapASeg')\n",
    "from hapaseg.utils import parse_cytoband"
   ]
  },
  {
   "cell_type": "code",
   "execution_count": 24,
   "id": "93e156b1",
   "metadata": {},
   "outputs": [
    {
     "data": {
      "text/html": [
       "<div>\n",
       "<style scoped>\n",
       "    .dataframe tbody tr th:only-of-type {\n",
       "        vertical-align: middle;\n",
       "    }\n",
       "\n",
       "    .dataframe tbody tr th {\n",
       "        vertical-align: top;\n",
       "    }\n",
       "\n",
       "    .dataframe thead th {\n",
       "        text-align: right;\n",
       "    }\n",
       "</style>\n",
       "<table border=\"1\" class=\"dataframe\">\n",
       "  <thead>\n",
       "    <tr style=\"text-align: right;\">\n",
       "      <th></th>\n",
       "      <th>chr</th>\n",
       "      <th>start</th>\n",
       "      <th>end</th>\n",
       "      <th>band</th>\n",
       "      <th>stain</th>\n",
       "    </tr>\n",
       "  </thead>\n",
       "  <tbody>\n",
       "    <tr>\n",
       "      <th>0</th>\n",
       "      <td>chr1</td>\n",
       "      <td>0</td>\n",
       "      <td>2300000</td>\n",
       "      <td>p36.33</td>\n",
       "      <td>gneg</td>\n",
       "    </tr>\n",
       "    <tr>\n",
       "      <th>1</th>\n",
       "      <td>chr1</td>\n",
       "      <td>2300000</td>\n",
       "      <td>5300000</td>\n",
       "      <td>p36.32</td>\n",
       "      <td>gpos25</td>\n",
       "    </tr>\n",
       "    <tr>\n",
       "      <th>2</th>\n",
       "      <td>chr1</td>\n",
       "      <td>5300000</td>\n",
       "      <td>7100000</td>\n",
       "      <td>p36.31</td>\n",
       "      <td>gneg</td>\n",
       "    </tr>\n",
       "    <tr>\n",
       "      <th>3</th>\n",
       "      <td>chr1</td>\n",
       "      <td>7100000</td>\n",
       "      <td>9100000</td>\n",
       "      <td>p36.23</td>\n",
       "      <td>gpos25</td>\n",
       "    </tr>\n",
       "    <tr>\n",
       "      <th>4</th>\n",
       "      <td>chr1</td>\n",
       "      <td>9100000</td>\n",
       "      <td>12500000</td>\n",
       "      <td>p36.22</td>\n",
       "      <td>gneg</td>\n",
       "    </tr>\n",
       "    <tr>\n",
       "      <th>...</th>\n",
       "      <td>...</td>\n",
       "      <td>...</td>\n",
       "      <td>...</td>\n",
       "      <td>...</td>\n",
       "      <td>...</td>\n",
       "    </tr>\n",
       "    <tr>\n",
       "      <th>857</th>\n",
       "      <td>chrY</td>\n",
       "      <td>12400000</td>\n",
       "      <td>17100000</td>\n",
       "      <td>q11.221</td>\n",
       "      <td>gpos50</td>\n",
       "    </tr>\n",
       "    <tr>\n",
       "      <th>858</th>\n",
       "      <td>chrY</td>\n",
       "      <td>17100000</td>\n",
       "      <td>19600000</td>\n",
       "      <td>q11.222</td>\n",
       "      <td>gneg</td>\n",
       "    </tr>\n",
       "    <tr>\n",
       "      <th>859</th>\n",
       "      <td>chrY</td>\n",
       "      <td>19600000</td>\n",
       "      <td>23800000</td>\n",
       "      <td>q11.223</td>\n",
       "      <td>gpos50</td>\n",
       "    </tr>\n",
       "    <tr>\n",
       "      <th>860</th>\n",
       "      <td>chrY</td>\n",
       "      <td>23800000</td>\n",
       "      <td>26600000</td>\n",
       "      <td>q11.23</td>\n",
       "      <td>gneg</td>\n",
       "    </tr>\n",
       "    <tr>\n",
       "      <th>861</th>\n",
       "      <td>chrY</td>\n",
       "      <td>26600000</td>\n",
       "      <td>57227415</td>\n",
       "      <td>q12</td>\n",
       "      <td>gvar</td>\n",
       "    </tr>\n",
       "  </tbody>\n",
       "</table>\n",
       "<p>862 rows × 5 columns</p>\n",
       "</div>"
      ],
      "text/plain": [
       "      chr     start       end     band   stain\n",
       "0    chr1         0   2300000   p36.33    gneg\n",
       "1    chr1   2300000   5300000   p36.32  gpos25\n",
       "2    chr1   5300000   7100000   p36.31    gneg\n",
       "3    chr1   7100000   9100000   p36.23  gpos25\n",
       "4    chr1   9100000  12500000   p36.22    gneg\n",
       "..    ...       ...       ...      ...     ...\n",
       "857  chrY  12400000  17100000  q11.221  gpos50\n",
       "858  chrY  17100000  19600000  q11.222    gneg\n",
       "859  chrY  19600000  23800000  q11.223  gpos50\n",
       "860  chrY  23800000  26600000   q11.23    gneg\n",
       "861  chrY  26600000  57227415      q12    gvar\n",
       "\n",
       "[862 rows x 5 columns]"
      ]
     },
     "execution_count": 24,
     "metadata": {},
     "output_type": "execute_result"
    }
   ],
   "source": [
    "cband = pd.read_csv('../cnv_data/cytoBand.hg38.txt', sep = \"\\t\", names = [\"chr\", \"start\", \"end\", \"band\", \"stain\"])\n",
    "cband"
   ]
  },
  {
   "cell_type": "code",
   "execution_count": 75,
   "id": "052b1a35",
   "metadata": {
    "scrolled": true
   },
   "outputs": [],
   "source": [
    "centromere_df = parse_cytoband('../cnv_data/cytoBand.hg38.txt')\n",
    "centromere_df.loc[centromere_df[centromere_df['start'] == 0].index, 'arm'] = 'p'\n",
    "centromere_df.loc[centromere_df[centromere_df['start'] != 0].index, 'arm'] = 'q'\n",
    "\n",
    "\n",
    "centromere_spec_df = centromere_df.set_index(['chr', 'arm']).unstack()[[('start', 'q'), ('end', 'p')]]\n",
    "centromere_spec_df['avg'] = centromere_spec_df.mean(axis=1).astype(int)\n",
    "centromere_spec_df['list'] = centromere_spec_df.apply(lambda x: [int(x[('end', 'p')]), int(x[('start', 'q')])], axis=1)\n",
    "centromere_spec_df.columns = centromere_spec_df.columns.droplevel(1)\n",
    "centromere_spec_df.index = centromere_spec_df.index.map(str)"
   ]
  },
  {
   "cell_type": "code",
   "execution_count": 74,
   "id": "a9c79524",
   "metadata": {},
   "outputs": [
    {
     "data": {
      "text/plain": [
       "Index(['1', '2', '3', '4', '5', '6', '7', '8', '9', '10', '11', '12', '13',\n",
       "       '14', '15', '16', '17', '18', '19', '20', '21', '22', '23', '24'],\n",
       "      dtype='object', name='chr')"
      ]
     },
     "execution_count": 74,
     "metadata": {},
     "output_type": "execute_result"
    }
   ],
   "source": [
    "centromere_spec_df.index.map(str)"
   ]
  },
  {
   "cell_type": "code",
   "execution_count": 76,
   "id": "2f1aab92",
   "metadata": {},
   "outputs": [
    {
     "data": {
      "text/plain": [
       "{'1': 123400000,\n",
       " '2': 93900000,\n",
       " '3': 90900000,\n",
       " '4': 50000000,\n",
       " '5': 48750000,\n",
       " '6': 60550000,\n",
       " '7': 60100000,\n",
       " '8': 45200000,\n",
       " '9': 43850000,\n",
       " '10': 39800000,\n",
       " '11': 53400000,\n",
       " '12': 35500000,\n",
       " '13': 17700000,\n",
       " '14': 17150000,\n",
       " '15': 19000000,\n",
       " '16': 36850000,\n",
       " '17': 25050000,\n",
       " '18': 18450000,\n",
       " '19': 26150000,\n",
       " '20': 28050000,\n",
       " '21': 11950000,\n",
       " '22': 15550000,\n",
       " '23': 60950000,\n",
       " '24': 10450000}"
      ]
     },
     "execution_count": 76,
     "metadata": {},
     "output_type": "execute_result"
    }
   ],
   "source": [
    "centromere_spec_df.to_dict()['avg']"
   ]
  },
  {
   "cell_type": "code",
   "execution_count": 77,
   "id": "e748cb5c",
   "metadata": {},
   "outputs": [
    {
     "data": {
      "text/plain": [
       "{'1': [121700000, 125100000],\n",
       " '2': [91800000, 96000000],\n",
       " '3': [87800000, 94000000],\n",
       " '4': [48200000, 51800000],\n",
       " '5': [46100000, 51400000],\n",
       " '6': [58500000, 62600000],\n",
       " '7': [58100000, 62100000],\n",
       " '8': [43200000, 47200000],\n",
       " '9': [42200000, 45500000],\n",
       " '10': [38000000, 41600000],\n",
       " '11': [51000000, 55800000],\n",
       " '12': [33200000, 37800000],\n",
       " '13': [16500000, 18900000],\n",
       " '14': [16100000, 18200000],\n",
       " '15': [17500000, 20500000],\n",
       " '16': [35300000, 38400000],\n",
       " '17': [22700000, 27400000],\n",
       " '18': [15400000, 21500000],\n",
       " '19': [24200000, 28100000],\n",
       " '20': [25700000, 30400000],\n",
       " '21': [10900000, 13000000],\n",
       " '22': [13700000, 17400000],\n",
       " '23': [58100000, 63800000],\n",
       " '24': [10300000, 10600000]}"
      ]
     },
     "execution_count": 77,
     "metadata": {},
     "output_type": "execute_result"
    }
   ],
   "source": [
    "centromere_spec_df.to_dict()['list']"
   ]
  },
  {
   "cell_type": "code",
   "execution_count": null,
   "id": "f737da21",
   "metadata": {},
   "outputs": [],
   "source": []
  }
 ],
 "metadata": {
  "kernelspec": {
   "display_name": "Python 3 (ipykernel)",
   "language": "python",
   "name": "python3"
  },
  "language_info": {
   "codemirror_mode": {
    "name": "ipython",
    "version": 3
   },
   "file_extension": ".py",
   "mimetype": "text/x-python",
   "name": "python",
   "nbconvert_exporter": "python",
   "pygments_lexer": "ipython3",
   "version": "3.8.10"
  }
 },
 "nbformat": 4,
 "nbformat_minor": 5
}