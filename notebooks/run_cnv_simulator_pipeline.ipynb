{
 "cells": [
  {
   "cell_type": "code",
   "execution_count": null,
   "id": "452fb96e",
   "metadata": {},
   "outputs": [],
   "source": [
    "import pandas as pd\n",
    "import numpy as np\n",
    "import matplotlib.pyplot as plt\n",
    "\n",
    "from cnv_profile import CNV_Profile\n",
    "from plot_cnv_profile import plot_acr_static\n",
    "import swifter\n",
    "import natsort\n"
   ]
  },
  {
   "cell_type": "markdown",
   "id": "2688f1fa",
   "metadata": {},
   "source": [
    "## Get cytobands"
   ]
  },
  {
   "cell_type": "code",
   "execution_count": 2,
   "id": "5f4e3a06",
   "metadata": {},
   "outputs": [
    {
     "name": "stdout",
     "output_type": "stream",
     "text": [
      "Could not load reference genome!\n"
     ]
    },
    {
     "name": "stderr",
     "output_type": "stream",
     "text": [
      "Cannot find path to gnomAD index; gnomAD functionality disabled.\n"
     ]
    }
   ],
   "source": [
    "import sys\n",
    "sys.path.append('/home/cmesser/HapASeg')\n",
    "from hapaseg.utils import parse_cytoband"
   ]
  },
  {
   "cell_type": "code",
   "execution_count": 3,
   "id": "93e156b1",
   "metadata": {},
   "outputs": [
    {
     "data": {
      "text/html": [
       "<div>\n",
       "<style scoped>\n",
       "    .dataframe tbody tr th:only-of-type {\n",
       "        vertical-align: middle;\n",
       "    }\n",
       "\n",
       "    .dataframe tbody tr th {\n",
       "        vertical-align: top;\n",
       "    }\n",
       "\n",
       "    .dataframe thead th {\n",
       "        text-align: right;\n",
       "    }\n",
       "</style>\n",
       "<table border=\"1\" class=\"dataframe\">\n",
       "  <thead>\n",
       "    <tr style=\"text-align: right;\">\n",
       "      <th></th>\n",
       "      <th>chr</th>\n",
       "      <th>start</th>\n",
       "      <th>end</th>\n",
       "      <th>band</th>\n",
       "      <th>stain</th>\n",
       "    </tr>\n",
       "  </thead>\n",
       "  <tbody>\n",
       "    <tr>\n",
       "      <th>0</th>\n",
       "      <td>chr1</td>\n",
       "      <td>0</td>\n",
       "      <td>2300000</td>\n",
       "      <td>p36.33</td>\n",
       "      <td>gneg</td>\n",
       "    </tr>\n",
       "    <tr>\n",
       "      <th>1</th>\n",
       "      <td>chr1</td>\n",
       "      <td>2300000</td>\n",
       "      <td>5300000</td>\n",
       "      <td>p36.32</td>\n",
       "      <td>gpos25</td>\n",
       "    </tr>\n",
       "    <tr>\n",
       "      <th>2</th>\n",
       "      <td>chr1</td>\n",
       "      <td>5300000</td>\n",
       "      <td>7100000</td>\n",
       "      <td>p36.31</td>\n",
       "      <td>gneg</td>\n",
       "    </tr>\n",
       "    <tr>\n",
       "      <th>3</th>\n",
       "      <td>chr1</td>\n",
       "      <td>7100000</td>\n",
       "      <td>9100000</td>\n",
       "      <td>p36.23</td>\n",
       "      <td>gpos25</td>\n",
       "    </tr>\n",
       "    <tr>\n",
       "      <th>4</th>\n",
       "      <td>chr1</td>\n",
       "      <td>9100000</td>\n",
       "      <td>12500000</td>\n",
       "      <td>p36.22</td>\n",
       "      <td>gneg</td>\n",
       "    </tr>\n",
       "    <tr>\n",
       "      <th>...</th>\n",
       "      <td>...</td>\n",
       "      <td>...</td>\n",
       "      <td>...</td>\n",
       "      <td>...</td>\n",
       "      <td>...</td>\n",
       "    </tr>\n",
       "    <tr>\n",
       "      <th>857</th>\n",
       "      <td>chrY</td>\n",
       "      <td>12400000</td>\n",
       "      <td>17100000</td>\n",
       "      <td>q11.221</td>\n",
       "      <td>gpos50</td>\n",
       "    </tr>\n",
       "    <tr>\n",
       "      <th>858</th>\n",
       "      <td>chrY</td>\n",
       "      <td>17100000</td>\n",
       "      <td>19600000</td>\n",
       "      <td>q11.222</td>\n",
       "      <td>gneg</td>\n",
       "    </tr>\n",
       "    <tr>\n",
       "      <th>859</th>\n",
       "      <td>chrY</td>\n",
       "      <td>19600000</td>\n",
       "      <td>23800000</td>\n",
       "      <td>q11.223</td>\n",
       "      <td>gpos50</td>\n",
       "    </tr>\n",
       "    <tr>\n",
       "      <th>860</th>\n",
       "      <td>chrY</td>\n",
       "      <td>23800000</td>\n",
       "      <td>26600000</td>\n",
       "      <td>q11.23</td>\n",
       "      <td>gneg</td>\n",
       "    </tr>\n",
       "    <tr>\n",
       "      <th>861</th>\n",
       "      <td>chrY</td>\n",
       "      <td>26600000</td>\n",
       "      <td>57227415</td>\n",
       "      <td>q12</td>\n",
       "      <td>gvar</td>\n",
       "    </tr>\n",
       "  </tbody>\n",
       "</table>\n",
       "<p>862 rows × 5 columns</p>\n",
       "</div>"
      ],
      "text/plain": [
       "      chr     start       end     band   stain\n",
       "0    chr1         0   2300000   p36.33    gneg\n",
       "1    chr1   2300000   5300000   p36.32  gpos25\n",
       "2    chr1   5300000   7100000   p36.31    gneg\n",
       "3    chr1   7100000   9100000   p36.23  gpos25\n",
       "4    chr1   9100000  12500000   p36.22    gneg\n",
       "..    ...       ...       ...      ...     ...\n",
       "857  chrY  12400000  17100000  q11.221  gpos50\n",
       "858  chrY  17100000  19600000  q11.222    gneg\n",
       "859  chrY  19600000  23800000  q11.223  gpos50\n",
       "860  chrY  23800000  26600000   q11.23    gneg\n",
       "861  chrY  26600000  57227415      q12    gvar\n",
       "\n",
       "[862 rows x 5 columns]"
      ]
     },
     "execution_count": 3,
     "metadata": {},
     "output_type": "execute_result"
    }
   ],
   "source": [
    "cband = pd.read_csv('../cnv_data/cytoBand.hg38.txt', sep = \"\\t\", names = [\"chr\", \"start\", \"end\", \"band\", \"stain\"])\n",
    "cband"
   ]
  },
  {
   "cell_type": "code",
   "execution_count": null,
   "id": "052b1a35",
   "metadata": {
    "scrolled": true
   },
   "outputs": [],
   "source": [
    "centromere_df = parse_cytoband('../cnv_data/cytoBand.hg38.txt')\n",
    "centromere_df.loc[centromere_df[centromere_df['start'] == 0].index, 'arm'] = 'p'\n",
    "centromere_df.loc[centromere_df[centromere_df['start'] != 0].index, 'arm'] = 'q'\n",
    "\n",
    "centromere_spec_df = centromere_df.set_index(['chr', 'arm']).unstack()[[('start', 'q'), ('end', 'p')]]\n",
    "centromere_spec_df['avg'] = centromere_spec_df.mean(axis=1).astype(int)\n",
    "centromere_spec_df['list'] = centromere_spec_df.apply(lambda x: [int(x[('end', 'p')]), int(x[('start', 'q')])], axis=1)\n",
    "centromere_spec_df.columns = centromere_spec_df.columns.droplevel(1)\n",
    "centromere_spec_df.index = centromere_spec_df.index.map(str)"
   ]
  },
  {
   "cell_type": "code",
   "execution_count": null,
   "id": "2f1aab92",
   "metadata": {},
   "outputs": [],
   "source": [
    "centromere_avg_center = centromere_spec_df.to_dict()['avg']\n",
    "centromere_span_center = centromere_spec_df.to_dict()['list']"
   ]
  },
  {
   "cell_type": "code",
   "execution_count": null,
   "id": "765b2316",
   "metadata": {},
   "outputs": [],
   "source": [
    "centromere_spec_df[['start', 'end', 'avg']].to_csv('./test/simulation/centromeres.hg38.txt', sep='t', index=True)\n"
   ]
  },
  {
   "cell_type": "markdown",
   "id": "c5b7aadf",
   "metadata": {},
   "source": [
    "## Get Simulated CNV Profile"
   ]
  },
  {
   "cell_type": "code",
   "execution_count": null,
   "id": "61471763",
   "metadata": {},
   "outputs": [],
   "source": [
    "import importlib\n",
    "import cnv_profile\n",
    "importlib.reload(cnv_profile)\n",
    "from cnv_profile import CNV_Profile"
   ]
  },
  {
   "cell_type": "code",
   "execution_count": null,
   "id": "dbd6f90d",
   "metadata": {},
   "outputs": [],
   "source": [
    "default_profile = CNV_Profile(num_subclones=3, csize='../cnv_data/genome.hg38.txt', cent_loc=centromere_avg_center)\n",
    "default_profile.add_cnv_events(arm_num=20, focal_num=600, p_whole=0.6, ratio_clonal=0.5,\n",
    "                       median_focal_length=1.8 * 10**6)\n",
    "default_profile.add_arm(2, 1, chrom='1')\n",
    "default_profile.calculate_cnv_profile()\n",
    "default_profile.calculate_df_profiles()"
   ]
  },
  {
   "cell_type": "code",
   "execution_count": 27,
   "id": "0e11bb0d",
   "metadata": {},
   "outputs": [
    {
     "data": {
      "text/html": [
       "<div>\n",
       "<style scoped>\n",
       "    .dataframe tbody tr th:only-of-type {\n",
       "        vertical-align: middle;\n",
       "    }\n",
       "\n",
       "    .dataframe tbody tr th {\n",
       "        vertical-align: top;\n",
       "    }\n",
       "\n",
       "    .dataframe thead th {\n",
       "        text-align: right;\n",
       "    }\n",
       "</style>\n",
       "<table border=\"1\" class=\"dataframe\">\n",
       "  <thead>\n",
       "    <tr style=\"text-align: right;\">\n",
       "      <th></th>\n",
       "      <th>Chromosome</th>\n",
       "      <th>Start.bp</th>\n",
       "      <th>End.bp</th>\n",
       "      <th>mu.major</th>\n",
       "      <th>mu.minor</th>\n",
       "    </tr>\n",
       "  </thead>\n",
       "  <tbody>\n",
       "    <tr>\n",
       "      <th>0</th>\n",
       "      <td>1</td>\n",
       "      <td>133633205</td>\n",
       "      <td>139578493</td>\n",
       "      <td>1.00000</td>\n",
       "      <td>0.000000</td>\n",
       "    </tr>\n",
       "    <tr>\n",
       "      <th>1</th>\n",
       "      <td>1</td>\n",
       "      <td>93541931</td>\n",
       "      <td>97530797</td>\n",
       "      <td>1.00000</td>\n",
       "      <td>0.000000</td>\n",
       "    </tr>\n",
       "    <tr>\n",
       "      <th>2</th>\n",
       "      <td>1</td>\n",
       "      <td>10357753</td>\n",
       "      <td>15357541</td>\n",
       "      <td>2.00000</td>\n",
       "      <td>0.000000</td>\n",
       "    </tr>\n",
       "    <tr>\n",
       "      <th>3</th>\n",
       "      <td>1</td>\n",
       "      <td>24634138</td>\n",
       "      <td>27410020</td>\n",
       "      <td>1.00000</td>\n",
       "      <td>0.000000</td>\n",
       "    </tr>\n",
       "    <tr>\n",
       "      <th>4</th>\n",
       "      <td>1</td>\n",
       "      <td>66771359</td>\n",
       "      <td>73129260</td>\n",
       "      <td>1.00000</td>\n",
       "      <td>0.000000</td>\n",
       "    </tr>\n",
       "    <tr>\n",
       "      <th>...</th>\n",
       "      <td>...</td>\n",
       "      <td>...</td>\n",
       "      <td>...</td>\n",
       "      <td>...</td>\n",
       "      <td>...</td>\n",
       "    </tr>\n",
       "    <tr>\n",
       "      <th>66</th>\n",
       "      <td>24</td>\n",
       "      <td>39899188</td>\n",
       "      <td>40023904</td>\n",
       "      <td>1.00000</td>\n",
       "      <td>0.751072</td>\n",
       "    </tr>\n",
       "    <tr>\n",
       "      <th>67</th>\n",
       "      <td>24</td>\n",
       "      <td>18410803</td>\n",
       "      <td>20655988</td>\n",
       "      <td>2.00000</td>\n",
       "      <td>1.000000</td>\n",
       "    </tr>\n",
       "    <tr>\n",
       "      <th>68</th>\n",
       "      <td>24</td>\n",
       "      <td>22950301</td>\n",
       "      <td>24952698</td>\n",
       "      <td>2.00000</td>\n",
       "      <td>1.000000</td>\n",
       "    </tr>\n",
       "    <tr>\n",
       "      <th>69</th>\n",
       "      <td>24</td>\n",
       "      <td>7046692</td>\n",
       "      <td>7401643</td>\n",
       "      <td>1.00000</td>\n",
       "      <td>0.661935</td>\n",
       "    </tr>\n",
       "    <tr>\n",
       "      <th>70</th>\n",
       "      <td>24</td>\n",
       "      <td>255259</td>\n",
       "      <td>847771</td>\n",
       "      <td>1.67613</td>\n",
       "      <td>1.000000</td>\n",
       "    </tr>\n",
       "  </tbody>\n",
       "</table>\n",
       "<p>1227 rows × 5 columns</p>\n",
       "</div>"
      ],
      "text/plain": [
       "   Chromosome   Start.bp     End.bp  mu.major  mu.minor\n",
       "0           1  133633205  139578493   1.00000  0.000000\n",
       "1           1   93541931   97530797   1.00000  0.000000\n",
       "2           1   10357753   15357541   2.00000  0.000000\n",
       "3           1   24634138   27410020   1.00000  0.000000\n",
       "4           1   66771359   73129260   1.00000  0.000000\n",
       "..        ...        ...        ...       ...       ...\n",
       "66         24   39899188   40023904   1.00000  0.751072\n",
       "67         24   18410803   20655988   2.00000  1.000000\n",
       "68         24   22950301   24952698   2.00000  1.000000\n",
       "69         24    7046692    7401643   1.00000  0.661935\n",
       "70         24     255259     847771   1.67613  1.000000\n",
       "\n",
       "[1227 rows x 5 columns]"
      ]
     },
     "execution_count": 27,
     "metadata": {},
     "output_type": "execute_result"
    }
   ],
   "source": [
    "default_profile.cnv_profile_df"
   ]
  },
  {
   "cell_type": "code",
   "execution_count": null,
   "id": "45ab99cd",
   "metadata": {},
   "outputs": [],
   "source": [
    "default_profile.cnv_profile_df.sort_values(['Chromosome', 'Start.bp'], key=natsort.natsort_keygen()).to_csv('./test/simulation/genome_1.txt', sep='\\t', index=False)"
   ]
  },
  {
   "cell_type": "code",
   "execution_count": 29,
   "id": "a976d061",
   "metadata": {},
   "outputs": [
    {
     "data": {
      "image/png": "[encoded data removed]",
      "text/plain": [
       "<Figure size 432x288 with 1 Axes>"
      ]
     },
     "metadata": {
      "needs_background": "light"
     },
     "output_type": "display_data"
    }
   ],
   "source": [
    "fig, ax = plt.subplots(1,1)\n",
    "\n",
    "fig = plot_acr_static(default_profile.cnv_profile_df, ax, default_profile.csize, segment_colors='difference', sigmas=False, min_seg_lw=3, y_upper_lim=3)\n"
   ]
  },
  {
   "cell_type": "markdown",
   "id": "a6225644",
   "metadata": {},
   "source": [
    "#### Simulated Coverage/VCF Files"
   ]
  },
  {
   "cell_type": "code",
   "execution_count": null,
   "id": "5af0cd0e",
   "metadata": {},
   "outputs": [],
   "source": [
    "# Generate TEST binned coverage profile (for WGS)\n",
    "\n",
    "test_binned_coverage = pd.read_csv('../cnv_data/1Mb.genome_bins.hg38.bed', sep='\\t', header=None, names=['chrom', 'start_pos', 'end_pos'])\n",
    "\n",
    "dispersion_norm = np.random.normal(0, 10, test_binned_coverage.shape[0])\n",
    "binned_coverage = 30 * (test_binned_coverage['end_pos'] - test_binned_coverage['start_pos'])\n",
    "# this_chr_coverage = np.asarray([np.random.poisson(cov + np.exp(disp)) for cov, disp in\n",
    "#                                zip(binned_coverage, dispersion_norm)])  # would need to calculate sum of binned log NP \n",
    "this_chr_coverage = np.random.poisson(binned_coverage)\n",
    "test_binned_coverage['cov'] = this_chr_coverage\n",
    "test_binned_coverage['chrom'] = test_binned_coverage['chrom'].apply(lambda x: x[3:])\n",
    "test_binned_coverage.to_csv('./test/simulation/binned_coverage.test', sep='\\t', index=False)"
   ]
  },
  {
   "cell_type": "code",
   "execution_count": null,
   "id": "42030ba1",
   "metadata": {},
   "outputs": [],
   "source": [
    "# Generate test VCF file with depth\n",
    "\n",
    "test_vcf = pd.read_csv('../HapASeg/simulation/NA12878/VCF/NA12878.vcf', sep='\\t', comment='#', header=None, \n",
    "                     names=['CHROM','POS','ID','REF','ALT','QUAL','FILTER','INFO','FORMAT','NA12878'])\n",
    "test_vcf = test_vcf[['CHROM', 'POS']].rename(columns={'CHROM': 'chr', 'POS': 'pos'})\n",
    "\n",
    "dispersion_norm = np.random.normal(0, 2, test_vcf.shape[0])\n",
    "this_chr_coverage = np.asarray([np.random.poisson(30 + np.exp(disp)) for disp in dispersion_norm])\n",
    "test_vcf['depth'] = this_chr_coverage\n",
    "test_vcf['chr'] = test_vcf['chr'].apply(lambda x: x[3:])\n",
    "test_vcf.to_csv('./test/simulation/test_hets.txt', sep='\\t', index=False)"
   ]
  },
  {
   "cell_type": "markdown",
   "id": "eb19f9aa",
   "metadata": {},
   "source": [
    "### Save Coverage and VCF Files"
   ]
  },
  {
   "cell_type": "code",
   "execution_count": 11,
   "id": "8bbc255f",
   "metadata": {
    "scrolled": true
   },
   "outputs": [
    {
     "name": "stdout",
     "output_type": "stream",
     "text": [
      "INFO: Pandarallel will run on 4 workers.\n",
      "INFO: Pandarallel will use Memory file system to transfer data between the main process and workers.\n",
      "CPU times: user 1min 11s, sys: 11.6 s, total: 1min 23s\n",
      "Wall time: 11min 47s\n"
     ]
    }
   ],
   "source": [
    "%%time\n",
    "# SAVE COVERAGE FILE - WGS\n",
    "\n",
    "default_profile.save_coverage_file('./test/simulation/NA12878.WGS.genome_test.pur_0_7.txt', 0.7, '../cnv_data/NA12878.WGS.hg38.binned_coverage.bed') #'./test/simulation/binned_coverage.test'\n"
   ]
  },
  {
   "cell_type": "code",
   "execution_count": 17,
   "id": "20f31f48",
   "metadata": {},
   "outputs": [
    {
     "name": "stdout",
     "output_type": "stream",
     "text": [
      "INFO: Pandarallel will run on 4 workers.\n",
      "INFO: Pandarallel will use Memory file system to transfer data between the main process and workers.\n",
      "CPU times: user 1.67 s, sys: 324 ms, total: 2 s\n",
      "Wall time: 7.99 s\n"
     ]
    }
   ],
   "source": [
    "%%time\n",
    "# SAVE COVERAGE FILE - Pond WES\n",
    "\n",
    "default_profile.save_coverage_file('./test/simulation/NA12878.WES_Pond.genome_test.pur_0_7.txt', 0.7, '../cnv_data/NA12878.Pond_WES.phase1_2_combined.hg38.binned_coverage.bed') #'./test/simulation/binned_coverage.test'\n"
   ]
  },
  {
   "cell_type": "code",
   "execution_count": null,
   "id": "05e37707",
   "metadata": {},
   "outputs": [],
   "source": [
    "%%time\n",
    "# SAVE COVERAGE FILE - Solexa WES\n",
    "\n",
    "default_profile.save_coverage_file('./test/simulation/NA12878.Solexa_WES.genome_test.pur_0_7.txt', 0.7, '../cnv_data/NA12878.Solexa_WES.phase1_2_combined.hg38.binned_coverage.bed') #'./test/simulation/binned_coverage.test'\n"
   ]
  },
  {
   "cell_type": "code",
   "execution_count": null,
   "id": "2e2ae35e",
   "metadata": {
    "scrolled": true
   },
   "outputs": [],
   "source": [
    "%%time\n",
    "# SAVE HETS FILE - WGS\n",
    "default_profile.save_hets_file('./test/simulation/NA12878.WGS.vcf_depths.genome_test.pur_0_7.txt', '../HapASeg/simulation/NA12878/VCF/NA12878.vcf', '../cnv_data/NA12878_WGS.vcf.depths.bed', 0.7)  # './test/simulation/test_hets.txt'\n"
   ]
  },
  {
   "cell_type": "code",
   "execution_count": 30,
   "id": "b0cfe50b",
   "metadata": {},
   "outputs": [
    {
     "name": "stdout",
     "output_type": "stream",
     "text": [
      "INFO: Pandarallel will run on 4 workers.\n",
      "INFO: Pandarallel will use Memory file system to transfer data between the main process and workers.\n",
      "CPU times: user 33.9 s, sys: 5.13 s, total: 39 s\n",
      "Wall time: 4min 55s\n"
     ]
    }
   ],
   "source": [
    "%%time\n",
    "# SAVE HETS FILE - Pond WES\n",
    "default_profile.save_hets_file('./test/simulation/NA12878.Pond_WES.vcf_depths.genome_test.pur_0_7.txt', '../HapASeg/simulation/NA12878/VCF/NA12878.vcf', '../cnv_data/NA12878_Pond_WES.vcf.depths.bed', 0.7)\n"
   ]
  },
  {
   "cell_type": "code",
   "execution_count": null,
   "id": "e56090e5",
   "metadata": {},
   "outputs": [],
   "source": [
    "%%time\n",
    "# SAVE HETS FILE - Solexa WES\n",
    "default_profile.save_hets_file('./test/simulation/NA12878.Solexa_WES.vcf_depths.genome_test.pur_0_7.txt', '../HapASeg/simulation/NA12878/VCF/NA12878.vcf', '../cnv_data/NA12878_Solexa_WES.vcf.depths.bed', 0.7)"
   ]
  },
  {
   "cell_type": "code",
   "execution_count": 59,
   "id": "2fcfe1d9",
   "metadata": {},
   "outputs": [
    {
     "data": {
      "text/html": [
       "<div>\n",
       "<style scoped>\n",
       "    .dataframe tbody tr th:only-of-type {\n",
       "        vertical-align: middle;\n",
       "    }\n",
       "\n",
       "    .dataframe tbody tr th {\n",
       "        vertical-align: top;\n",
       "    }\n",
       "\n",
       "    .dataframe thead th {\n",
       "        text-align: right;\n",
       "    }\n",
       "</style>\n",
       "<table border=\"1\" class=\"dataframe\">\n",
       "  <thead>\n",
       "    <tr style=\"text-align: right;\">\n",
       "      <th></th>\n",
       "      <th>CONTIG</th>\n",
       "      <th>POSITION</th>\n",
       "      <th>REF_COUNT</th>\n",
       "      <th>ALT_COUNT</th>\n",
       "    </tr>\n",
       "  </thead>\n",
       "  <tbody>\n",
       "    <tr>\n",
       "      <th>2</th>\n",
       "      <td>1</td>\n",
       "      <td>740738</td>\n",
       "      <td>24</td>\n",
       "      <td>20</td>\n",
       "    </tr>\n",
       "    <tr>\n",
       "      <th>20</th>\n",
       "      <td>1</td>\n",
       "      <td>789680</td>\n",
       "      <td>159</td>\n",
       "      <td>115</td>\n",
       "    </tr>\n",
       "    <tr>\n",
       "      <th>22</th>\n",
       "      <td>1</td>\n",
       "      <td>792149</td>\n",
       "      <td>19</td>\n",
       "      <td>20</td>\n",
       "    </tr>\n",
       "    <tr>\n",
       "      <th>26</th>\n",
       "      <td>1</td>\n",
       "      <td>797392</td>\n",
       "      <td>23</td>\n",
       "      <td>22</td>\n",
       "    </tr>\n",
       "    <tr>\n",
       "      <th>36</th>\n",
       "      <td>1</td>\n",
       "      <td>805514</td>\n",
       "      <td>19</td>\n",
       "      <td>31</td>\n",
       "    </tr>\n",
       "    <tr>\n",
       "      <th>...</th>\n",
       "      <td>...</td>\n",
       "      <td>...</td>\n",
       "      <td>...</td>\n",
       "      <td>...</td>\n",
       "    </tr>\n",
       "    <tr>\n",
       "      <th>4167762</th>\n",
       "      <td>23</td>\n",
       "      <td>155422097</td>\n",
       "      <td>23</td>\n",
       "      <td>12</td>\n",
       "    </tr>\n",
       "    <tr>\n",
       "      <th>4167803</th>\n",
       "      <td>23</td>\n",
       "      <td>155443920</td>\n",
       "      <td>19</td>\n",
       "      <td>24</td>\n",
       "    </tr>\n",
       "    <tr>\n",
       "      <th>4167832</th>\n",
       "      <td>23</td>\n",
       "      <td>155522299</td>\n",
       "      <td>16</td>\n",
       "      <td>15</td>\n",
       "    </tr>\n",
       "    <tr>\n",
       "      <th>4167844</th>\n",
       "      <td>23</td>\n",
       "      <td>155532668</td>\n",
       "      <td>17</td>\n",
       "      <td>17</td>\n",
       "    </tr>\n",
       "    <tr>\n",
       "      <th>4167883</th>\n",
       "      <td>23</td>\n",
       "      <td>155554981</td>\n",
       "      <td>14</td>\n",
       "      <td>11</td>\n",
       "    </tr>\n",
       "  </tbody>\n",
       "</table>\n",
       "<p>1849358 rows × 4 columns</p>\n",
       "</div>"
      ],
      "text/plain": [
       "         CONTIG   POSITION  REF_COUNT  ALT_COUNT\n",
       "2             1     740738         24         20\n",
       "20            1     789680        159        115\n",
       "22            1     792149         19         20\n",
       "26            1     797392         23         22\n",
       "36            1     805514         19         31\n",
       "...         ...        ...        ...        ...\n",
       "4167762      23  155422097         23         12\n",
       "4167803      23  155443920         19         24\n",
       "4167832      23  155522299         16         15\n",
       "4167844      23  155532668         17         17\n",
       "4167883      23  155554981         14         11\n",
       "\n",
       "[1849358 rows x 4 columns]"
      ]
     },
     "execution_count": 59,
     "metadata": {},
     "output_type": "execute_result"
    }
   ],
   "source": [
    "test_hets_file = pd.read_csv('./test/simulation/NA12878.WGS.vcf_depths.genome_test.pur_0_7.txt', sep='\\t')\n",
    "test_hets_file[(test_hets_file['REF_COUNT'] > 10) & (test_hets_file['ALT_COUNT'] > 10)]"
   ]
  },
  {
   "cell_type": "markdown",
   "id": "84ef318d",
   "metadata": {},
   "source": [
    "## Profile Methods"
   ]
  },
  {
   "cell_type": "code",
   "execution_count": null,
   "id": "f543cfeb",
   "metadata": {},
   "outputs": [],
   "source": [
    "from cnv_profile import switch_contigs, get_average_ploidy"
   ]
  },
  {
   "cell_type": "code",
   "execution_count": null,
   "id": "159dea76",
   "metadata": {},
   "outputs": [],
   "source": [
    "cov_binned = '../cnv_data/NA12878.WGS.hg38.binned_coverage.bed'\n",
    "x_coverage_df = pd.read_csv(cov_binned, sep='\\t', names=['chrom', 'start', 'end', 'coverage', 'cov_adjust'],\n",
    "                                    dtype={'chrom': str, 'start': int, 'end': int}, header=0)\n",
    "# change contigs to [0-9]+ from chr[0-9XY]+ in input file\n",
    "x_coverage_df = switch_contigs(x_coverage_df)\n",
    "x_coverage_df = x_coverage_df[x_coverage_df['chrom'].isin(default_profile.csize.keys())]\n",
    "x_coverage_df_test = x_coverage_df.loc[x_coverage_df['chrom'] == '22']"
   ]
  },
  {
   "cell_type": "code",
   "execution_count": null,
   "id": "dbccc001",
   "metadata": {},
   "outputs": [],
   "source": [
    "purity = 0.7"
   ]
  },
  {
   "cell_type": "code",
   "execution_count": 42,
   "id": "548ce56c",
   "metadata": {},
   "outputs": [
    {
     "name": "stdout",
     "output_type": "stream",
     "text": [
      "14.6 s ± 184 ms per loop (mean ± std. dev. of 7 runs, 1 loop each)\n"
     ]
    }
   ],
   "source": [
    "%%timeit\n",
    "x_coverage_df_test.apply(\n",
    "    lambda x: get_average_ploidy(default_profile.cnv_trees[x['chrom']], x['start'], x['end'], purity),\n",
    "    axis=1)"
   ]
  },
  {
   "cell_type": "code",
   "execution_count": 46,
   "id": "30616b62",
   "metadata": {},
   "outputs": [
    {
     "data": {
      "application/vnd.jupyter.widget-view+json": {
       "model_id": "4d0844ffab89439caa8eb139b496acfb",
       "version_major": 2,
       "version_minor": 0
      },
      "text/plain": [
       "Dask Apply:   0%|          | 0/8 [00:00<?, ?it/s]"
      ]
     },
     "metadata": {},
     "output_type": "display_data"
    },
    {
     "data": {
      "application/vnd.jupyter.widget-view+json": {
       "model_id": "a6d8af7a4b3346c987cedd191e6b9943",
       "version_major": 2,
       "version_minor": 0
      },
      "text/plain": [
       "Dask Apply:   0%|          | 0/8 [00:00<?, ?it/s]"
      ]
     },
     "metadata": {},
     "output_type": "display_data"
    },
    {
     "data": {
      "application/vnd.jupyter.widget-view+json": {
       "model_id": "fee471aadbb04a11a013fb73c939c0f0",
       "version_major": 2,
       "version_minor": 0
      },
      "text/plain": [
       "Dask Apply:   0%|          | 0/8 [00:00<?, ?it/s]"
      ]
     },
     "metadata": {},
     "output_type": "display_data"
    },
    {
     "data": {
      "application/vnd.jupyter.widget-view+json": {
       "model_id": "1256faf19fac4ceb8260caeba0810979",
       "version_major": 2,
       "version_minor": 0
      },
      "text/plain": [
       "Dask Apply:   0%|          | 0/8 [00:00<?, ?it/s]"
      ]
     },
     "metadata": {},
     "output_type": "display_data"
    },
    {
     "data": {
      "application/vnd.jupyter.widget-view+json": {
       "model_id": "8a5f03efe08e46c196491016b0114db4",
       "version_major": 2,
       "version_minor": 0
      },
      "text/plain": [
       "Dask Apply:   0%|          | 0/8 [00:00<?, ?it/s]"
      ]
     },
     "metadata": {},
     "output_type": "display_data"
    },
    {
     "data": {
      "application/vnd.jupyter.widget-view+json": {
       "model_id": "e19847120bee49e69e1c48941d76c198",
       "version_major": 2,
       "version_minor": 0
      },
      "text/plain": [
       "Dask Apply:   0%|          | 0/8 [00:00<?, ?it/s]"
      ]
     },
     "metadata": {},
     "output_type": "display_data"
    },
    {
     "data": {
      "application/vnd.jupyter.widget-view+json": {
       "model_id": "788c563c84df4b1fab367ee19d04dc32",
       "version_major": 2,
       "version_minor": 0
      },
      "text/plain": [
       "Dask Apply:   0%|          | 0/8 [00:00<?, ?it/s]"
      ]
     },
     "metadata": {},
     "output_type": "display_data"
    },
    {
     "data": {
      "application/vnd.jupyter.widget-view+json": {
       "model_id": "7608b4c6793042449f980b994d677e0a",
       "version_major": 2,
       "version_minor": 0
      },
      "text/plain": [
       "Dask Apply:   0%|          | 0/8 [00:00<?, ?it/s]"
      ]
     },
     "metadata": {},
     "output_type": "display_data"
    },
    {
     "name": "stdout",
     "output_type": "stream",
     "text": [
      "16.5 s ± 99.3 ms per loop (mean ± std. dev. of 7 runs, 1 loop each)\n"
     ]
    }
   ],
   "source": [
    "%%timeit\n",
    "x_coverage_df_test.swifter.apply(\n",
    "    lambda x: get_average_ploidy(default_profile.cnv_trees[str(x['chrom'])], x['start'], x['end'], purity),\n",
    "    axis=1)"
   ]
  },
  {
   "cell_type": "code",
   "execution_count": 50,
   "id": "244f32fc",
   "metadata": {},
   "outputs": [
    {
     "name": "stdout",
     "output_type": "stream",
     "text": [
      "INFO: Pandarallel will run on 4 workers.\n",
      "INFO: Pandarallel will use Memory file system to transfer data between the main process and workers.\n"
     ]
    }
   ],
   "source": [
    "from pandarallel import pandarallel\n",
    "pandarallel.initialize()"
   ]
  },
  {
   "cell_type": "code",
   "execution_count": 51,
   "id": "a380de1b",
   "metadata": {},
   "outputs": [
    {
     "name": "stdout",
     "output_type": "stream",
     "text": [
      "9.49 s ± 62.3 ms per loop (mean ± std. dev. of 7 runs, 1 loop each)\n"
     ]
    }
   ],
   "source": [
    "%%timeit\n",
    "x_coverage_df_test.parallel_apply(\n",
    "    lambda x: get_average_ploidy(default_profile.cnv_trees[str(x['chrom'])], x['start'], x['end'], purity),\n",
    "    axis=1)"
   ]
  },
  {
   "cell_type": "code",
   "execution_count": 55,
   "id": "56f61948",
   "metadata": {},
   "outputs": [
    {
     "name": "stdout",
     "output_type": "stream",
     "text": [
      "217 ms ± 356 µs per loop (mean ± std. dev. of 7 runs, 1 loop each)\n"
     ]
    }
   ],
   "source": [
    "%%timeit\n",
    "x_coverage_df['cov_adjust'] = np.floor(x_coverage_df['coverage'].values * x_coverage_df['ploidy'].values / 2).astype(int)"
   ]
  },
  {
   "cell_type": "code",
   "execution_count": 167,
   "id": "03e22470",
   "metadata": {},
   "outputs": [],
   "source": [
    "start = 6000000\n",
    "end = 100000000\n",
    "\n",
    "def single_allele_ploidy(allele, start, end):\n",
    "    \"\"\"Get the ploidy for this allele tree over this interval (start, end).\"\"\"\n",
    "    # check genome bins - inclusive or exclusive (how it is now) todo\n",
    "    intervals = allele.envelop(start, end) | allele[start] | allele[end - 1]\n",
    "    if len(intervals) == 1:\n",
    "        return intervals.pop().data[3]\n",
    "    else:\n",
    "        interval_totals = [(min(i.end, end) - max(i.begin, start)) * i.data[3] for i in intervals]\n",
    "        return sum(interval_totals) / (end - start)\n",
    "\n",
    "def get_average_ploidy_test(tree, start, end, purity):\n",
    "    # need to run over paternal and maternal alleles\n",
    "\n",
    "    pat_ploidy = single_allele_ploidy(tree[1], start, end)\n",
    "    mat_ploidy = single_allele_ploidy(tree[0], start, end)\n",
    "\n",
    "    return (mat_ploidy + pat_ploidy) * purity + 2 * (1 - purity)\n",
    "\n",
    "def get_average_ploidy_np(tree, start, end, purity):\n",
    "    # need to run over paternal and maternal alleles\n",
    "\n",
    "    pat_ploidy = single_allele_ploidy(tree[1], start, end)\n",
    "    mat_ploidy = single_allele_ploidy(tree[0], start, end)\n",
    "\n",
    "    return pat_ploidy, mat_ploidy\n",
    "\n",
    "def get_average_ploidy_final(pat_ploidy, mat_ploidy, purity):\n",
    "    \"\"\"Get the average ploidy defined by the paternal/maternal tumor CN and the purity.\"\"\"\n",
    "    return (pat_ploidy + mat_ploidy) * purity + 2 * (1 - purity)"
   ]
  },
  {
   "cell_type": "code",
   "execution_count": 142,
   "id": "7de1b291",
   "metadata": {},
   "outputs": [
    {
     "name": "stderr",
     "output_type": "stream",
     "text": [
      "<magic-timeit>:1: SettingWithCopyWarning: \n",
      "A value is trying to be set on a copy of a slice from a DataFrame.\n",
      "Try using .loc[row_indexer,col_indexer] = value instead\n",
      "\n",
      "See the caveats in the documentation: https://pandas.pydata.org/pandas-docs/stable/user_guide/indexing.html#returning-a-view-versus-a-copy\n"
     ]
    },
    {
     "name": "stdout",
     "output_type": "stream",
     "text": [
      "8.24 s ± 111 ms per loop (mean ± std. dev. of 7 runs, 1 loop each)\n"
     ]
    }
   ],
   "source": [
    "%%timeit\n",
    "x_coverage_df_test['ploidy'] = x_coverage_df_test.parallel_apply(\n",
    "    lambda x: get_average_ploidy_test(default_profile.cnv_trees[x['chrom']], x['start'], x['end'], purity),\n",
    "    axis=1)"
   ]
  },
  {
   "cell_type": "code",
   "execution_count": 143,
   "id": "07dd9d23",
   "metadata": {},
   "outputs": [
    {
     "name": "stderr",
     "output_type": "stream",
     "text": [
      "/home/cmesser/.local/lib/python3.8/site-packages/pandas/core/frame.py:3641: SettingWithCopyWarning: \n",
      "A value is trying to be set on a copy of a slice from a DataFrame.\n",
      "Try using .loc[row_indexer,col_indexer] = value instead\n",
      "\n",
      "See the caveats in the documentation: https://pandas.pydata.org/pandas-docs/stable/user_guide/indexing.html#returning-a-view-versus-a-copy\n",
      "  self[k1] = value[k2]\n"
     ]
    },
    {
     "name": "stdout",
     "output_type": "stream",
     "text": [
      "11.3 s ± 64.7 ms per loop (mean ± std. dev. of 7 runs, 1 loop each)\n"
     ]
    }
   ],
   "source": [
    "%%timeit\n",
    "x_coverage_df_test[['pat_ploidy', 'mat_ploidy']] = x_coverage_df_test.parallel_apply(\n",
    "    lambda x: get_average_ploidy_np(default_profile.cnv_trees['22'], x['start'], x['end'], purity),\n",
    "    axis=1, result_type='expand')"
   ]
  },
  {
   "cell_type": "code",
   "execution_count": 173,
   "id": "9539bee1",
   "metadata": {},
   "outputs": [
    {
     "name": "stderr",
     "output_type": "stream",
     "text": [
      "<magic-timeit>:1: SettingWithCopyWarning: \n",
      "A value is trying to be set on a copy of a slice from a DataFrame.\n",
      "Try using .loc[row_indexer,col_indexer] = value instead\n",
      "\n",
      "See the caveats in the documentation: https://pandas.pydata.org/pandas-docs/stable/user_guide/indexing.html#returning-a-view-versus-a-copy\n",
      "<magic-timeit>:4: SettingWithCopyWarning: \n",
      "A value is trying to be set on a copy of a slice from a DataFrame.\n",
      "Try using .loc[row_indexer,col_indexer] = value instead\n",
      "\n",
      "See the caveats in the documentation: https://pandas.pydata.org/pandas-docs/stable/user_guide/indexing.html#returning-a-view-versus-a-copy\n"
     ]
    },
    {
     "name": "stdout",
     "output_type": "stream",
     "text": [
      "11.2 s ± 65.1 ms per loop (mean ± std. dev. of 7 runs, 1 loop each)\n"
     ]
    }
   ],
   "source": [
    "%%timeit\n",
    "x_coverage_df_test['paternal_ploidy'] = x_coverage_df_test.parallel_apply(\n",
    "    lambda x: single_allele_ploidy(default_profile.cnv_trees[x['chrom']][0], x['start'], x['end']),\n",
    "    axis=1)\n",
    "x_coverage_df_test['maternal_ploidy'] = x_coverage_df_test.parallel_apply(\n",
    "    lambda x: single_allele_ploidy(default_profile.cnv_trees[x['chrom']][1], x['start'], x['end']),\n",
    "    axis=1)"
   ]
  },
  {
   "cell_type": "code",
   "execution_count": 172,
   "id": "1735fb07",
   "metadata": {},
   "outputs": [
    {
     "name": "stderr",
     "output_type": "stream",
     "text": [
      "<magic-timeit>:1: SettingWithCopyWarning: \n",
      "A value is trying to be set on a copy of a slice from a DataFrame.\n",
      "Try using .loc[row_indexer,col_indexer] = value instead\n",
      "\n",
      "See the caveats in the documentation: https://pandas.pydata.org/pandas-docs/stable/user_guide/indexing.html#returning-a-view-versus-a-copy\n"
     ]
    },
    {
     "name": "stdout",
     "output_type": "stream",
     "text": [
      "1.31 ms ± 51 µs per loop (mean ± std. dev. of 7 runs, 1000 loops each)\n"
     ]
    }
   ],
   "source": [
    "%%timeit\n",
    "x_coverage_df_test['ploidy'] = get_average_ploidy_final(x_coverage_df_test['paternal_ploidy'].values,\n",
    "                                             x_coverage_df_test['maternal_ploidy'].values,\n",
    "                                             purity)"
   ]
  },
  {
   "cell_type": "code",
   "execution_count": 144,
   "id": "81079fee",
   "metadata": {},
   "outputs": [
    {
     "name": "stdout",
     "output_type": "stream",
     "text": [
      "443 µs ± 5.73 µs per loop (mean ± std. dev. of 7 runs, 1000 loops each)\n"
     ]
    }
   ],
   "source": [
    "%%timeit\n",
    "(x_coverage_df_test['mat_ploidy'].values + x_coverage_df_test['pat_ploidy'].values) * purity + 2 * (1 - purity)"
   ]
  },
  {
   "cell_type": "code",
   "execution_count": 163,
   "id": "c6880394",
   "metadata": {},
   "outputs": [
    {
     "name": "stderr",
     "output_type": "stream",
     "text": [
      "<magic-timeit>:1: SettingWithCopyWarning: \n",
      "A value is trying to be set on a copy of a slice from a DataFrame.\n",
      "Try using .loc[row_indexer,col_indexer] = value instead\n",
      "\n",
      "See the caveats in the documentation: https://pandas.pydata.org/pandas-docs/stable/user_guide/indexing.html#returning-a-view-versus-a-copy\n"
     ]
    },
    {
     "name": "stdout",
     "output_type": "stream",
     "text": [
      "3.59 s ± 61.8 ms per loop (mean ± std. dev. of 7 runs, 1 loop each)\n"
     ]
    }
   ],
   "source": [
    "%%timeit\n",
    "x_coverage_df_test['maternal_prop'] = x_coverage_df_test.iloc[1:].parallel_apply(\n",
    "    lambda x: (default_profile.cnv_trees[x['chrom']][1][x['start']].pop().data.cn_change * purity +\n",
    "              (1 - purity) ) / x['ploidy'], axis=1)"
   ]
  },
  {
   "cell_type": "code",
   "execution_count": 165,
   "id": "9cd3ed68",
   "metadata": {},
   "outputs": [
    {
     "name": "stderr",
     "output_type": "stream",
     "text": [
      "<magic-timeit>:1: SettingWithCopyWarning: \n",
      "A value is trying to be set on a copy of a slice from a DataFrame.\n",
      "Try using .loc[row_indexer,col_indexer] = value instead\n",
      "\n",
      "See the caveats in the documentation: https://pandas.pydata.org/pandas-docs/stable/user_guide/indexing.html#returning-a-view-versus-a-copy\n"
     ]
    },
    {
     "name": "stdout",
     "output_type": "stream",
     "text": [
      "3.13 s ± 20 ms per loop (mean ± std. dev. of 7 runs, 1 loop each)\n"
     ]
    }
   ],
   "source": [
    "%%timeit\n",
    "x_coverage_df_test['maternal_cn'] = x_coverage_df_test.iloc[1:].parallel_apply(\n",
    "    lambda x: default_profile.cnv_trees[x['chrom']][1][x['start']].pop().data.cn_change, axis=1)\n",
    "(x_coverage_df_test['maternal_cn'].values * purity + (1 - purity) ) / x_coverage_df_test['ploidy'].values"
   ]
  },
  {
   "cell_type": "code",
   "execution_count": 166,
   "id": "a5156c01",
   "metadata": {},
   "outputs": [
    {
     "name": "stdout",
     "output_type": "stream",
     "text": [
      "492 µs ± 15.1 µs per loop (mean ± std. dev. of 7 runs, 1000 loops each)\n"
     ]
    }
   ],
   "source": [
    "%%timeit\n",
    "(x_coverage_df_test['maternal_cn'].values * purity + (1 - purity) ) / x_coverage_df_test['ploidy'].values"
   ]
  },
  {
   "cell_type": "code",
   "execution_count": null,
   "id": "2d03b447",
   "metadata": {},
   "outputs": [],
   "source": []
  }
 ],
 "metadata": {
  "kernelspec": {
   "display_name": "Python 3 (ipykernel)",
   "language": "python",
   "name": "python3"
  },
  "language_info": {
   "codemirror_mode": {
    "name": "ipython",
    "version": 3
   },
   "file_extension": ".py",
   "mimetype": "text/x-python",
   "name": "python",
   "nbconvert_exporter": "python",
   "pygments_lexer": "ipython3",
   "version": "3.8.10"
  }
 },
 "nbformat": 4,
 "nbformat_minor": 5
}